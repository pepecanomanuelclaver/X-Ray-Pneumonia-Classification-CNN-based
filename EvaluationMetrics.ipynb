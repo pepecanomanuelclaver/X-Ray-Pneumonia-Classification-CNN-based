{
 "cells": [
  {
   "cell_type": "code",
   "execution_count": 1,
   "id": "26d6fcc4",
   "metadata": {},
   "outputs": [],
   "source": [
    "import keras\n",
    "import os\n",
    "import tensorflow as tf\n",
    "from keras.models import Sequential\n",
    "from keras.layers import Dense, Conv2D, MaxPool2D, Flatten, Dropout\n",
    "from keras.preprocessing.image import ImageDataGenerator\n",
    "from keras.applications.vgg16 import VGG16\n",
    "from keras.optimizers import Adam, RMSprop\n",
    "from keras.callbacks import EarlyStopping\n",
    "from sklearn.metrics import confusion_matrix, classification_report\n",
    "\n",
    "import pandas as pd\n",
    "import numpy as np\n",
    "import zipfile"
   ]
  },
  {
   "cell_type": "code",
   "execution_count": 2,
   "id": "bf8227b4",
   "metadata": {},
   "outputs": [],
   "source": [
    "# Uncomment if you need to download the data, it will say the location (folder is hidden)\n",
    "#!darwin dataset pull v7-labs/covid-19-chest-x-ray-dataset:all-images"
   ]
  },
  {
   "cell_type": "code",
   "execution_count": 3,
   "id": "19e93e1e",
   "metadata": {},
   "outputs": [],
   "source": [
    "ziploc =\"C:/Users/anahs/OneDrive - Universiteit Utrecht/SECOND PERIOD/Pattern Recognition/CXR_PROJECT/\"\n",
    "imgloc = \"C:/Users/anahs/.darwin/datasets/v7-labs/covid-19-chest-x-ray-dataset/images\"\n",
    "\n",
    "test_zf = zipfile.ZipFile(ziploc+'test_data.zip') \n",
    "test_df = pd.read_csv(test_zf.open('val_data.csv'))"
   ]
  },
  {
   "cell_type": "code",
   "execution_count": 4,
   "id": "01bc9790",
   "metadata": {},
   "outputs": [],
   "source": [
    "def label(df):\n",
    "    df[\"label\"] = np.nan\n",
    "    df.loc[df[\"type\"] == \"No Pneumonia\", 'label'] = 0\n",
    "    df.loc[df[\"type\"] == \"Bacterial Pneumonia\", 'label'] = 1\n",
    "    df.loc[df[\"type\"] == \"Viral Pneumonia\", 'label'] = 2\n",
    "    df.loc[df[\"Covid\"] == True, 'label'] = 3\n",
    "    return df\n",
    "\n",
    "test = label(test_df)\n",
    "test_df = test[test['label'].notna()]"
   ]
  },
  {
   "cell_type": "code",
   "execution_count": 5,
   "id": "02404cbb",
   "metadata": {},
   "outputs": [
    {
     "name": "stdout",
     "output_type": "stream",
     "text": [
      "Found 641 validated image filenames.\n"
     ]
    }
   ],
   "source": [
    "# rescale and reproduceability\n",
    "seed = 4\n",
    "datagenerator =  ImageDataGenerator(rescale= 1/255)\n",
    "\n",
    "# Make test data\n",
    "test_data = datagenerator.flow_from_dataframe(\n",
    "        dataframe = test_df,\n",
    "        directory = imgloc,\n",
    "        x_col = \"ogfilename\",\n",
    "        y_col = None,\n",
    "        class_mode = None,\n",
    "        batch_size = 1,\n",
    "        seed = seed,\n",
    "        shuffle = False,\n",
    "        target_size = (224,224), # changed values for vgg16\n",
    "        keep_aspect_ratio = True,\n",
    "        validate_filenames= True)"
   ]
  },
  {
   "cell_type": "markdown",
   "id": "f9b057d5",
   "metadata": {},
   "source": [
    "## VGG16_imagenet_free_model"
   ]
  },
  {
   "cell_type": "code",
   "execution_count": 6,
   "id": "cccaeadd",
   "metadata": {},
   "outputs": [],
   "source": [
    "model = tf.keras.models.load_model('VGG16_imagenet_free_model')"
   ]
  },
  {
   "cell_type": "code",
   "execution_count": 7,
   "id": "319d4dd1",
   "metadata": {},
   "outputs": [
    {
     "name": "stdout",
     "output_type": "stream",
     "text": [
      "641/641 [==============================] - 168s 261ms/step\n"
     ]
    }
   ],
   "source": [
    "#Predict\n",
    "y_prediction = model.predict(test_data) #for each observation the model returns the probability of belonging to each class "
   ]
  },
  {
   "cell_type": "code",
   "execution_count": 9,
   "id": "f819ed04",
   "metadata": {},
   "outputs": [
    {
     "data": {
      "text/plain": [
       "array([[2.7843351e-02, 4.9268880e-01, 2.5068099e-02, 8.8289849e-02],\n",
       "       [8.7550590e-03, 6.4834601e-01, 2.1960461e-03, 1.2821660e-02],\n",
       "       [9.8913200e-02, 2.3882896e-01, 2.3685645e-03, 1.2537321e-02],\n",
       "       ...,\n",
       "       [2.2415612e-04, 7.3379558e-04, 9.9807978e-01, 8.2566345e-05],\n",
       "       [2.5945667e-03, 1.7011426e-03, 9.9890202e-01, 1.3603761e-03],\n",
       "       [6.9178072e-06, 3.2912949e-04, 9.9997342e-01, 9.5609561e-05]],\n",
       "      dtype=float32)"
      ]
     },
     "execution_count": 9,
     "metadata": {},
     "output_type": "execute_result"
    }
   ],
   "source": [
    "y_prediction"
   ]
  },
  {
   "cell_type": "code",
   "execution_count": 10,
   "id": "08b68e2b",
   "metadata": {},
   "outputs": [
    {
     "name": "stdout",
     "output_type": "stream",
     "text": [
      "[[0.67555556 0.01529052 0.05263158 0.        ]\n",
      " [0.13333333 0.73700306 0.11842105 0.15384615]\n",
      " [0.19111111 0.24770642 0.13157895 0.84615385]\n",
      " [0.         0.         0.69736842 0.        ]]\n"
     ]
    }
   ],
   "source": [
    "y_prediction = np.argmax(y_prediction, axis=1) #choose the class with most probability\n",
    "\n",
    "#Create confusion matrix and normalizes it over predicted (columns)\n",
    "result = confusion_matrix(test_df.label, y_prediction, normalize='pred')\n",
    "print(result)"
   ]
  },
  {
   "cell_type": "code",
   "execution_count": 11,
   "id": "460de138",
   "metadata": {},
   "outputs": [
    {
     "name": "stdout",
     "output_type": "stream",
     "text": [
      "Accuracy por clase\n",
      "[0.90864272 0.64502077 0.09288689 0.        ]\n",
      "Healthy      Bacterial     Viral     Covid\n"
     ]
    }
   ],
   "source": [
    "result = result.astype('float') / result.sum(axis=1)[:, np.newaxis]\n",
    "\n",
    "#The diagonal entries are the accuracies of each class\n",
    "acc_perclass = result.diagonal()\n",
    "\n",
    "print(\"Accuracy por clase\")\n",
    "print(acc_perclass)\n",
    "print(\"Healthy      Bacterial     Viral     Covid\")"
   ]
  },
  {
   "cell_type": "code",
   "execution_count": 12,
   "id": "6c5a7932",
   "metadata": {
    "scrolled": true
   },
   "outputs": [
    {
     "name": "stdout",
     "output_type": "stream",
     "text": [
      "              precision    recall  f1-score   support\n",
      "\n",
      "         0.0       0.68      0.94      0.79       161\n",
      "         1.0       0.74      0.85      0.79       282\n",
      "         2.0       0.13      0.07      0.09       145\n",
      "         3.0       0.00      0.00      0.00        53\n",
      "\n",
      "    accuracy                           0.63       641\n",
      "   macro avg       0.39      0.47      0.42       641\n",
      "weighted avg       0.52      0.63      0.57       641\n",
      "\n"
     ]
    }
   ],
   "source": [
    "print(classification_report(test_df.label, y_prediction))"
   ]
  },
  {
   "cell_type": "markdown",
   "id": "ff36eceb",
   "metadata": {},
   "source": [
    "## VGG16_free_model"
   ]
  },
  {
   "cell_type": "code",
   "execution_count": 13,
   "id": "587aab5b",
   "metadata": {},
   "outputs": [],
   "source": [
    "model2 = tf.keras.models.load_model('VGG16_free_model')"
   ]
  },
  {
   "cell_type": "code",
   "execution_count": 14,
   "id": "245d574a",
   "metadata": {},
   "outputs": [
    {
     "name": "stdout",
     "output_type": "stream",
     "text": [
      "641/641 [==============================] - 170s 264ms/step\n"
     ]
    }
   ],
   "source": [
    "#Predict\n",
    "y_prediction2 = model2.predict(test_data) #for each observation the model returns the probability of belonging to each class "
   ]
  },
  {
   "cell_type": "code",
   "execution_count": 15,
   "id": "33d37c0f",
   "metadata": {},
   "outputs": [
    {
     "data": {
      "text/plain": [
       "array([[4.39927697e-01, 1.91484001e-02, 1.81896798e-02, 4.84982729e-02],\n",
       "       [9.78682004e-03, 2.83165574e-01, 1.71474740e-02, 1.02220014e-01],\n",
       "       [7.47225881e-02, 2.38302737e-01, 2.47117458e-03, 1.51563302e-01],\n",
       "       ...,\n",
       "       [1.19934864e-01, 1.78222952e-03, 9.93645668e-01, 7.11614266e-05],\n",
       "       [3.45302396e-04, 1.04672397e-02, 9.96992767e-01, 4.46134545e-02],\n",
       "       [1.67350993e-06, 8.75800652e-06, 9.99988437e-01, 1.50614064e-02]],\n",
       "      dtype=float32)"
      ]
     },
     "execution_count": 15,
     "metadata": {},
     "output_type": "execute_result"
    }
   ],
   "source": [
    "y_prediction2"
   ]
  },
  {
   "cell_type": "code",
   "execution_count": 16,
   "id": "085a63de",
   "metadata": {},
   "outputs": [
    {
     "name": "stdout",
     "output_type": "stream",
     "text": [
      "[[0.70935961 0.01162791 0.06185567 0.05325444]\n",
      " [0.13793103 0.86046512 0.26804124 0.47337278]\n",
      " [0.15270936 0.12790698 0.12371134 0.47337278]\n",
      " [0.         0.         0.54639175 0.        ]]\n"
     ]
    }
   ],
   "source": [
    "y_prediction2 = np.argmax(y_prediction2, axis = 1) #choose the class with most probability\n",
    "\n",
    "#Create confusion matrix and normalizes it over predicted (columns)\n",
    "result2 = confusion_matrix(test_df.label,  y_prediction2, normalize='pred')\n",
    "print(result2)"
   ]
  },
  {
   "cell_type": "code",
   "execution_count": 17,
   "id": "3cc971f4",
   "metadata": {},
   "outputs": [
    {
     "name": "stdout",
     "output_type": "stream",
     "text": [
      "Accuracy por clase\n",
      "[0.8484172  0.49457414 0.14094939 0.        ]\n",
      "Healthy      Bacterial     Viral     Covid\n"
     ]
    }
   ],
   "source": [
    "result2 = result2.astype('float') / result2.sum(axis=1)[:, np.newaxis]\n",
    "\n",
    "#The diagonal entries are the accuracies of each class\n",
    "acc_perclass2 = result2.diagonal()\n",
    "\n",
    "print(\"Accuracy por clase\")\n",
    "print(acc_perclass2)\n",
    "print(\"Healthy      Bacterial     Viral     Covid\")"
   ]
  },
  {
   "cell_type": "code",
   "execution_count": 18,
   "id": "732c4f6e",
   "metadata": {
    "scrolled": true
   },
   "outputs": [
    {
     "name": "stdout",
     "output_type": "stream",
     "text": [
      "              precision    recall  f1-score   support\n",
      "\n",
      "         0.0       0.71      0.89      0.79       161\n",
      "         1.0       0.86      0.52      0.65       282\n",
      "         2.0       0.12      0.08      0.10       145\n",
      "         3.0       0.00      0.00      0.00        53\n",
      "\n",
      "    accuracy                           0.47       641\n",
      "   macro avg       0.42      0.38      0.39       641\n",
      "weighted avg       0.58      0.47      0.51       641\n",
      "\n"
     ]
    }
   ],
   "source": [
    "print(classification_report(test_df.label, y_prediction2))"
   ]
  },
  {
   "cell_type": "markdown",
   "id": "3c7f75c3",
   "metadata": {},
   "source": [
    "## VGG16_imagenet_model"
   ]
  },
  {
   "cell_type": "code",
   "execution_count": 19,
   "id": "92df6dc3",
   "metadata": {},
   "outputs": [],
   "source": [
    "model3 = tf.keras.models.load_model('VGG16_imagenet_model')"
   ]
  },
  {
   "cell_type": "code",
   "execution_count": 20,
   "id": "3e569563",
   "metadata": {},
   "outputs": [
    {
     "name": "stdout",
     "output_type": "stream",
     "text": [
      "641/641 [==============================] - 173s 269ms/step\n"
     ]
    }
   ],
   "source": [
    "#Predict\n",
    "y_prediction3 = model3.predict(test_data) #for each observation the model returns the probability of belonging to each class "
   ]
  },
  {
   "cell_type": "code",
   "execution_count": 21,
   "id": "623e74ec",
   "metadata": {},
   "outputs": [
    {
     "data": {
      "text/plain": [
       "array([[1.3399896e-01, 6.8855561e-02, 3.1142685e-01, 5.1353570e-02],\n",
       "       [4.2112532e-01, 1.0599787e-01, 3.3898681e-01, 9.7181043e-03],\n",
       "       [2.6674975e-02, 3.3246219e-01, 9.7355209e-02, 6.3240066e-02],\n",
       "       ...,\n",
       "       [3.9061089e-03, 4.8470978e-05, 9.9950510e-01, 1.5719625e-04],\n",
       "       [1.2133875e-03, 5.8876324e-02, 9.6298736e-01, 2.7357863e-02],\n",
       "       [4.8025441e-04, 2.9228244e-02, 9.9175966e-01, 2.7654167e-02]],\n",
       "      dtype=float32)"
      ]
     },
     "execution_count": 21,
     "metadata": {},
     "output_type": "execute_result"
    }
   ],
   "source": [
    "y_prediction3"
   ]
  },
  {
   "cell_type": "code",
   "execution_count": 22,
   "id": "ab8cdf5a",
   "metadata": {},
   "outputs": [
    {
     "data": {
      "text/plain": [
       "array([[0.59765625, 0.01129944, 0.03030303, 0.        ],\n",
       "       [0.1953125 , 0.86440678, 0.39393939, 0.1       ],\n",
       "       [0.20703125, 0.12429379, 0.30808081, 0.9       ],\n",
       "       [0.        , 0.        , 0.26767677, 0.        ]])"
      ]
     },
     "execution_count": 22,
     "metadata": {},
     "output_type": "execute_result"
    }
   ],
   "source": [
    "y_prediction3 = np.argmax(y_prediction3, axis=1) #choose the class with most probability\n",
    "\n",
    "#Create confusion matrix and normalizes it over predicted (columns)\n",
    "result3 = confusion_matrix(test_df.label, y_prediction3, normalize='pred')\n",
    "result3"
   ]
  },
  {
   "cell_type": "code",
   "execution_count": 23,
   "id": "14693c89",
   "metadata": {},
   "outputs": [
    {
     "name": "stdout",
     "output_type": "stream",
     "text": [
      "Accuracy por clase\n",
      "[0.93492077 0.55636852 0.20012969 0.        ]\n",
      "Healthy      Bacterial     Viral     Covid\n"
     ]
    }
   ],
   "source": [
    "result3 = result3.astype('float') / result3.sum(axis=1)[:, np.newaxis]\n",
    "\n",
    "#The diagonal entries are the accuracies of each class\n",
    "acc_perclass3 = result3.diagonal()\n",
    "\n",
    "print(\"Accuracy por clase\")\n",
    "print(acc_perclass3)\n",
    "print(\"Healthy      Bacterial     Viral     Covid\")"
   ]
  },
  {
   "cell_type": "code",
   "execution_count": 24,
   "id": "b355831c",
   "metadata": {
    "scrolled": true
   },
   "outputs": [
    {
     "name": "stdout",
     "output_type": "stream",
     "text": [
      "              precision    recall  f1-score   support\n",
      "\n",
      "         0.0       0.60      0.95      0.73       161\n",
      "         1.0       0.86      0.54      0.67       282\n",
      "         2.0       0.31      0.42      0.36       145\n",
      "         3.0       0.00      0.00      0.00        53\n",
      "\n",
      "    accuracy                           0.57       641\n",
      "   macro avg       0.44      0.48      0.44       641\n",
      "weighted avg       0.60      0.57      0.56       641\n",
      "\n"
     ]
    }
   ],
   "source": [
    "print(classification_report(test_df.label, y_prediction3))"
   ]
  }
 ],
 "metadata": {
  "kernelspec": {
   "display_name": "Python 3 (ipykernel)",
   "language": "python",
   "name": "python3"
  },
  "language_info": {
   "codemirror_mode": {
    "name": "ipython",
    "version": 3
   },
   "file_extension": ".py",
   "mimetype": "text/x-python",
   "name": "python",
   "nbconvert_exporter": "python",
   "pygments_lexer": "ipython3",
   "version": "3.10.7"
  }
 },
 "nbformat": 4,
 "nbformat_minor": 5
}
