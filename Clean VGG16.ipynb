{
 "cells": [
  {
   "cell_type": "code",
   "execution_count": 1,
   "id": "21c8fc25",
   "metadata": {},
   "outputs": [],
   "source": [
    "import keras\n",
    "import os\n",
    "import tensorflow as tf\n",
    "from keras.models import Sequential\n",
    "from keras.layers import Dense, Conv2D, MaxPool2D, Flatten, Dropout\n",
    "from keras.preprocessing.image import ImageDataGenerator\n",
    "from keras.applications.vgg16 import VGG16\n",
    "from keras.optimizers import Adam, RMSprop\n",
    "from keras.callbacks import EarlyStopping, ModelCheckpoint\n",
    "from sklearn.metrics import confusion_matrix\n",
    "import matplotlib.pyplot as plt\n",
    "\n",
    "import pandas as pd\n",
    "import numpy as np\n",
    "import zipfile"
   ]
  },
  {
   "cell_type": "markdown",
   "id": "565d86dd",
   "metadata": {},
   "source": [
    "### locations and dataframes"
   ]
  },
  {
   "cell_type": "code",
   "execution_count": 2,
   "id": "70bd6b49",
   "metadata": {},
   "outputs": [],
   "source": [
    "# Data locs\n",
    "# Image and data locs:\n",
    "ziploc =\"E:/School/UU/PATREC/CXR_project/\"\n",
    "imgloc = \"E:/School/UU\\PATREC/.darwin/datasets/v7-labs/covid-19-chest-x-ray-dataset/images/\"\n",
    "store_loc = \"E:/School/UU/PATREC/.darwin/datasets/v7-labs/augmented_loc/\"\n",
    "\n",
    "# zip file locs\n",
    "train_zf = zipfile.ZipFile(ziploc+'final_train_data.zip') \n",
    "val_zf = zipfile.ZipFile(ziploc+'final_val_data.zip') \n",
    "test_zf = zipfile.ZipFile(ziploc+'test_data.zip') \n",
    "train_df = pd.read_csv(train_zf.open('final_train_data.csv'))\n",
    "val_df = pd.read_csv(val_zf.open('final_val_data.csv'))\n",
    "test_df = pd.read_csv(test_zf.open('val_data.csv'))\n",
    "\n",
    "#augmented image location\n",
    "train_dir = \"E:/School/UU/PATREC/.darwin/datasets/v7-labs/augmented_loc/train\"\n",
    "val_dir = \"E:/School/UU/PATREC/.darwin/datasets/v7-labs/augmented_loc/val\""
   ]
  },
  {
   "cell_type": "code",
   "execution_count": 3,
   "id": "59a84f13",
   "metadata": {},
   "outputs": [],
   "source": [
    "def label(df):\n",
    "    df[\"label\"] = np.nan\n",
    "    df.loc[df[\"type\"] == \"No Pneumonia\", 'label'] = \"A\"\n",
    "    df.loc[df[\"type\"] == \"Bacterial Pneumonia\", 'label'] = \"B\"\n",
    "#     df.loc[df[\"type\"] == \"Fungal Pneumonia\", 'label'] = \"C\"\n",
    "    df.loc[df[\"type\"] == \"Viral Pneumonia\", 'label'] = \"D\"\n",
    "    df.loc[df[\"Covid\"] == True, 'label'] = \"C\"\n",
    "#     df.loc[df[\"type\"] == \"Undefined Pneumonia\", 'label'] = \"F\"\n",
    "    return df"
   ]
  },
  {
   "cell_type": "code",
   "execution_count": 4,
   "id": "b8e89f44",
   "metadata": {},
   "outputs": [],
   "source": [
    "test = label(test_df)\n",
    "test_df = test[test['label'].notna()]"
   ]
  },
  {
   "cell_type": "markdown",
   "id": "defc3d94",
   "metadata": {},
   "source": [
    "### Data Loader for NN"
   ]
  },
  {
   "cell_type": "code",
   "execution_count": 5,
   "id": "87c7d6fa",
   "metadata": {},
   "outputs": [
    {
     "name": "stdout",
     "output_type": "stream",
     "text": [
      "Found 9984 validated image filenames belonging to 4 classes.\n",
      "Found 1248 validated image filenames belonging to 4 classes.\n",
      "Found 641 validated image filenames.\n"
     ]
    }
   ],
   "source": [
    "# rescale and reproduceabillity \n",
    "seed = 4\n",
    "datagenerator =  ImageDataGenerator(rescale= 1/255)\n",
    "\n",
    "# Make train rescled\n",
    "train_data = datagenerator.flow_from_dataframe(\n",
    "        dataframe = train_df,\n",
    "        directory = store_loc +\"train\",\n",
    "        x_col = \"ogfilename\",\n",
    "        y_col = \"label\",\n",
    "        class_mode = \"categorical\",\n",
    "        batch_size = 40,\n",
    "        seed = seed,\n",
    "        shuffle = True,\n",
    "        target_size = (224,224), # changed values for vgg16\n",
    "        keep_aspect_ratio = True,\n",
    "        validate_filenames= True)\n",
    "\n",
    "# Make val data\n",
    "val_data = datagenerator.flow_from_dataframe(\n",
    "        dataframe = val_df,\n",
    "        directory = store_loc +\"val\",\n",
    "        x_col = \"ogfilename\",\n",
    "        y_col = \"label\",\n",
    "        class_mode = \"categorical\",\n",
    "        batch_size = 40,\n",
    "        seed = seed,\n",
    "        shuffle = True,\n",
    "        target_size = (224,224), # changed values for vgg16\n",
    "        keep_aspect_ratio = True,\n",
    "        validate_filenames= True)\n",
    "\n",
    "# Make test data\n",
    "test_data = datagenerator.flow_from_dataframe(\n",
    "        dataframe = test_df,\n",
    "        directory = imgloc,\n",
    "        x_col = \"ogfilename\",\n",
    "        y_col = None,\n",
    "        class_mode = None,\n",
    "        batch_size = 1,\n",
    "        seed = seed,\n",
    "        shuffle = False,\n",
    "        target_size = (224,224), # changed values for vgg16\n",
    "        keep_aspect_ratio = True,\n",
    "        validate_filenames= True)"
   ]
  },
  {
   "cell_type": "markdown",
   "id": "4bd570e0",
   "metadata": {},
   "source": [
    "### Make VGG16 models"
   ]
  },
  {
   "cell_type": "code",
   "execution_count": 6,
   "id": "9048e4a7",
   "metadata": {},
   "outputs": [],
   "source": [
    "def get_model(weight, include_top_layer, input_size, trainable, classes):\n",
    "    vgg =  VGG16(weights=weight, include_top=include_top_layer, input_shape = input_size)\n",
    "    model = Sequential()\n",
    "    model.add(vgg)\n",
    "    model.add(Dropout(0.3))\n",
    "    model.add(Flatten())\n",
    "    model.add(Dropout(0.5))\n",
    "    model.add(Dense(classes, activation='sigmoid'))\n",
    "    model.layers[0].trainable = trainable\n",
    "    model.compile(loss='binary_crossentropy', \n",
    "                  optimizer=keras.optimizers.Adam(learning_rate=0.0003, beta_1=0.9, beta_2=0.999, epsilon=None, decay=0.0, amsgrad=False), \n",
    "                  metrics=[\"accuracy\"])\n",
    "    return model"
   ]
  },
  {
   "cell_type": "code",
   "execution_count": 7,
   "id": "81e96ba9",
   "metadata": {},
   "outputs": [],
   "source": [
    "def plot_acc(hist,modelname):\n",
    "    plt.plot(hist.history[\"accuracy\"])\n",
    "    plt.plot(hist.history[\"val_accuracy\"])\n",
    "    plt.ylabel('accuracy')\n",
    "    plt.xlabel('epoch')\n",
    "    plt.legend(['accuracy', 'validation accuracy'], loc='lower right')\n",
    "    plt.title(f\"accuracy for {modelname}\")\n",
    "    plt.show()"
   ]
  },
  {
   "cell_type": "code",
   "execution_count": 8,
   "id": "5d8460cd",
   "metadata": {},
   "outputs": [],
   "source": [
    "def plot_loss(hist,modelname):\n",
    "    plt.plot(hist.history[\"loss\"])\n",
    "    plt.plot(hist.history[\"val_loss\"])\n",
    "    plt.ylabel('Loss')\n",
    "    plt.xlabel('epoch')\n",
    "    plt.legend(['loss', 'validation loss'], loc='upper right')\n",
    "    plt.title(f\"loss for {modelname}\")\n",
    "    plt.show()"
   ]
  },
  {
   "cell_type": "code",
   "execution_count": 9,
   "id": "7152b8a0",
   "metadata": {},
   "outputs": [
    {
     "name": "stdout",
     "output_type": "stream",
     "text": [
      "Model: \"sequential\"\n",
      "_________________________________________________________________\n",
      " Layer (type)                Output Shape              Param #   \n",
      "=================================================================\n",
      " vgg16 (Functional)          (None, 7, 7, 512)         14714688  \n",
      "                                                                 \n",
      " dropout (Dropout)           (None, 7, 7, 512)         0         \n",
      "                                                                 \n",
      " flatten (Flatten)           (None, 25088)             0         \n",
      "                                                                 \n",
      " dropout_1 (Dropout)         (None, 25088)             0         \n",
      "                                                                 \n",
      " dense (Dense)               (None, 4)                 100356    \n",
      "                                                                 \n",
      "=================================================================\n",
      "Total params: 14,815,044\n",
      "Trainable params: 100,356\n",
      "Non-trainable params: 14,714,688\n",
      "_________________________________________________________________\n"
     ]
    }
   ],
   "source": [
    "imagenet_model = get_model('imagenet', False, (224,224,3), False, 4)\n",
    "imagenet_model.summary()"
   ]
  },
  {
   "cell_type": "code",
   "execution_count": 10,
   "id": "9fc60f32",
   "metadata": {},
   "outputs": [
    {
     "name": "stdout",
     "output_type": "stream",
     "text": [
      "Epoch 1/120\n",
      "50/50 [==============================] - ETA: 0s - loss: 0.5626 - accuracy: 0.4330\n",
      "Epoch 1: val_accuracy improved from -inf to 0.71000, saving model to ./checkpoints\\VGG16_imagenet_model\n"
     ]
    },
    {
     "name": "stderr",
     "output_type": "stream",
     "text": [
      "WARNING:absl:Found untraced functions such as _jit_compiled_convolution_op, _jit_compiled_convolution_op, _jit_compiled_convolution_op, _jit_compiled_convolution_op, _jit_compiled_convolution_op while saving (showing 5 of 13). These functions will not be directly callable after loading.\n"
     ]
    },
    {
     "name": "stdout",
     "output_type": "stream",
     "text": [
      "INFO:tensorflow:Assets written to: ./checkpoints\\VGG16_imagenet_model\\assets\n"
     ]
    },
    {
     "name": "stderr",
     "output_type": "stream",
     "text": [
      "INFO:tensorflow:Assets written to: ./checkpoints\\VGG16_imagenet_model\\assets\n"
     ]
    },
    {
     "name": "stdout",
     "output_type": "stream",
     "text": [
      "50/50 [==============================] - 18s 344ms/step - loss: 0.5626 - accuracy: 0.4330 - val_loss: 0.3830 - val_accuracy: 0.7100\n",
      "Epoch 2/120\n",
      "50/50 [==============================] - ETA: 0s - loss: 0.3990 - accuracy: 0.6315\n",
      "Epoch 2: val_accuracy improved from 0.71000 to 0.79417, saving model to ./checkpoints\\VGG16_imagenet_model\n"
     ]
    },
    {
     "name": "stderr",
     "output_type": "stream",
     "text": [
      "WARNING:absl:Found untraced functions such as _jit_compiled_convolution_op, _jit_compiled_convolution_op, _jit_compiled_convolution_op, _jit_compiled_convolution_op, _jit_compiled_convolution_op while saving (showing 5 of 13). These functions will not be directly callable after loading.\n"
     ]
    },
    {
     "name": "stdout",
     "output_type": "stream",
     "text": [
      "INFO:tensorflow:Assets written to: ./checkpoints\\VGG16_imagenet_model\\assets\n"
     ]
    },
    {
     "name": "stderr",
     "output_type": "stream",
     "text": [
      "INFO:tensorflow:Assets written to: ./checkpoints\\VGG16_imagenet_model\\assets\n"
     ]
    },
    {
     "name": "stdout",
     "output_type": "stream",
     "text": [
      "50/50 [==============================] - 17s 338ms/step - loss: 0.3990 - accuracy: 0.6315 - val_loss: 0.3178 - val_accuracy: 0.7942\n",
      "Epoch 3/120\n",
      "50/50 [==============================] - ETA: 0s - loss: 0.3464 - accuracy: 0.6990\n",
      "Epoch 3: val_accuracy did not improve from 0.79417\n",
      "50/50 [==============================] - 14s 280ms/step - loss: 0.3464 - accuracy: 0.6990 - val_loss: 0.2944 - val_accuracy: 0.7817\n",
      "Epoch 4/120\n",
      "50/50 [==============================] - ETA: 0s - loss: 0.3053 - accuracy: 0.7430\n",
      "Epoch 4: val_accuracy improved from 0.79417 to 0.79750, saving model to ./checkpoints\\VGG16_imagenet_model\n"
     ]
    },
    {
     "name": "stderr",
     "output_type": "stream",
     "text": [
      "WARNING:absl:Found untraced functions such as _jit_compiled_convolution_op, _jit_compiled_convolution_op, _jit_compiled_convolution_op, _jit_compiled_convolution_op, _jit_compiled_convolution_op while saving (showing 5 of 13). These functions will not be directly callable after loading.\n"
     ]
    },
    {
     "name": "stdout",
     "output_type": "stream",
     "text": [
      "INFO:tensorflow:Assets written to: ./checkpoints\\VGG16_imagenet_model\\assets\n"
     ]
    },
    {
     "name": "stderr",
     "output_type": "stream",
     "text": [
      "INFO:tensorflow:Assets written to: ./checkpoints\\VGG16_imagenet_model\\assets\n"
     ]
    },
    {
     "name": "stdout",
     "output_type": "stream",
     "text": [
      "50/50 [==============================] - 17s 334ms/step - loss: 0.3053 - accuracy: 0.7430 - val_loss: 0.2772 - val_accuracy: 0.7975\n",
      "Epoch 5/120\n",
      "50/50 [==============================] - ETA: 0s - loss: 0.3032 - accuracy: 0.7415\n",
      "Epoch 5: val_accuracy improved from 0.79750 to 0.80333, saving model to ./checkpoints\\VGG16_imagenet_model\n"
     ]
    },
    {
     "name": "stderr",
     "output_type": "stream",
     "text": [
      "WARNING:absl:Found untraced functions such as _jit_compiled_convolution_op, _jit_compiled_convolution_op, _jit_compiled_convolution_op, _jit_compiled_convolution_op, _jit_compiled_convolution_op while saving (showing 5 of 13). These functions will not be directly callable after loading.\n"
     ]
    },
    {
     "name": "stdout",
     "output_type": "stream",
     "text": [
      "INFO:tensorflow:Assets written to: ./checkpoints\\VGG16_imagenet_model\\assets\n"
     ]
    },
    {
     "name": "stderr",
     "output_type": "stream",
     "text": [
      "INFO:tensorflow:Assets written to: ./checkpoints\\VGG16_imagenet_model\\assets\n"
     ]
    },
    {
     "name": "stdout",
     "output_type": "stream",
     "text": [
      "50/50 [==============================] - 17s 339ms/step - loss: 0.3032 - accuracy: 0.7415 - val_loss: 0.2710 - val_accuracy: 0.8033\n",
      "Epoch 6/120\n",
      "50/50 [==============================] - ETA: 0s - loss: 0.2981 - accuracy: 0.7475\n",
      "Epoch 6: val_accuracy improved from 0.80333 to 0.81750, saving model to ./checkpoints\\VGG16_imagenet_model\n"
     ]
    },
    {
     "name": "stderr",
     "output_type": "stream",
     "text": [
      "WARNING:absl:Found untraced functions such as _jit_compiled_convolution_op, _jit_compiled_convolution_op, _jit_compiled_convolution_op, _jit_compiled_convolution_op, _jit_compiled_convolution_op while saving (showing 5 of 13). These functions will not be directly callable after loading.\n"
     ]
    },
    {
     "name": "stdout",
     "output_type": "stream",
     "text": [
      "INFO:tensorflow:Assets written to: ./checkpoints\\VGG16_imagenet_model\\assets\n"
     ]
    },
    {
     "name": "stderr",
     "output_type": "stream",
     "text": [
      "INFO:tensorflow:Assets written to: ./checkpoints\\VGG16_imagenet_model\\assets\n"
     ]
    },
    {
     "name": "stdout",
     "output_type": "stream",
     "text": [
      "50/50 [==============================] - 17s 335ms/step - loss: 0.2981 - accuracy: 0.7475 - val_loss: 0.2608 - val_accuracy: 0.8175\n",
      "Epoch 7/120\n",
      "50/50 [==============================] - ETA: 0s - loss: 0.2873 - accuracy: 0.7615\n",
      "Epoch 7: val_accuracy improved from 0.81750 to 0.82583, saving model to ./checkpoints\\VGG16_imagenet_model\n"
     ]
    },
    {
     "name": "stderr",
     "output_type": "stream",
     "text": [
      "WARNING:absl:Found untraced functions such as _jit_compiled_convolution_op, _jit_compiled_convolution_op, _jit_compiled_convolution_op, _jit_compiled_convolution_op, _jit_compiled_convolution_op while saving (showing 5 of 13). These functions will not be directly callable after loading.\n"
     ]
    },
    {
     "name": "stdout",
     "output_type": "stream",
     "text": [
      "INFO:tensorflow:Assets written to: ./checkpoints\\VGG16_imagenet_model\\assets\n"
     ]
    },
    {
     "name": "stderr",
     "output_type": "stream",
     "text": [
      "INFO:tensorflow:Assets written to: ./checkpoints\\VGG16_imagenet_model\\assets\n"
     ]
    },
    {
     "name": "stdout",
     "output_type": "stream",
     "text": [
      "50/50 [==============================] - 17s 333ms/step - loss: 0.2873 - accuracy: 0.7615 - val_loss: 0.2538 - val_accuracy: 0.8258\n",
      "Epoch 8/120\n",
      "50/50 [==============================] - ETA: 0s - loss: 0.2675 - accuracy: 0.7780\n",
      "Epoch 8: val_accuracy improved from 0.82583 to 0.82917, saving model to ./checkpoints\\VGG16_imagenet_model\n"
     ]
    },
    {
     "name": "stderr",
     "output_type": "stream",
     "text": [
      "WARNING:absl:Found untraced functions such as _jit_compiled_convolution_op, _jit_compiled_convolution_op, _jit_compiled_convolution_op, _jit_compiled_convolution_op, _jit_compiled_convolution_op while saving (showing 5 of 13). These functions will not be directly callable after loading.\n"
     ]
    },
    {
     "name": "stdout",
     "output_type": "stream",
     "text": [
      "INFO:tensorflow:Assets written to: ./checkpoints\\VGG16_imagenet_model\\assets\n"
     ]
    },
    {
     "name": "stderr",
     "output_type": "stream",
     "text": [
      "INFO:tensorflow:Assets written to: ./checkpoints\\VGG16_imagenet_model\\assets\n"
     ]
    },
    {
     "name": "stdout",
     "output_type": "stream",
     "text": [
      "50/50 [==============================] - 17s 339ms/step - loss: 0.2675 - accuracy: 0.7780 - val_loss: 0.2491 - val_accuracy: 0.8292\n",
      "Epoch 9/120\n",
      "50/50 [==============================] - ETA: 0s - loss: 0.2657 - accuracy: 0.7833\n",
      "Epoch 9: val_accuracy improved from 0.82917 to 0.83250, saving model to ./checkpoints\\VGG16_imagenet_model\n"
     ]
    },
    {
     "name": "stderr",
     "output_type": "stream",
     "text": [
      "WARNING:absl:Found untraced functions such as _jit_compiled_convolution_op, _jit_compiled_convolution_op, _jit_compiled_convolution_op, _jit_compiled_convolution_op, _jit_compiled_convolution_op while saving (showing 5 of 13). These functions will not be directly callable after loading.\n"
     ]
    },
    {
     "name": "stdout",
     "output_type": "stream",
     "text": [
      "INFO:tensorflow:Assets written to: ./checkpoints\\VGG16_imagenet_model\\assets\n"
     ]
    },
    {
     "name": "stderr",
     "output_type": "stream",
     "text": [
      "INFO:tensorflow:Assets written to: ./checkpoints\\VGG16_imagenet_model\\assets\n"
     ]
    },
    {
     "name": "stdout",
     "output_type": "stream",
     "text": [
      "50/50 [==============================] - 17s 340ms/step - loss: 0.2657 - accuracy: 0.7833 - val_loss: 0.2456 - val_accuracy: 0.8325\n",
      "Epoch 10/120\n",
      "50/50 [==============================] - ETA: 0s - loss: 0.2652 - accuracy: 0.7865\n",
      "Epoch 10: val_accuracy did not improve from 0.83250\n",
      "50/50 [==============================] - 14s 281ms/step - loss: 0.2652 - accuracy: 0.7865 - val_loss: 0.2448 - val_accuracy: 0.8258\n",
      "Epoch 11/120\n",
      "50/50 [==============================] - ETA: 0s - loss: 0.2580 - accuracy: 0.7855\n",
      "Epoch 11: val_accuracy improved from 0.83250 to 0.84083, saving model to ./checkpoints\\VGG16_imagenet_model\n"
     ]
    },
    {
     "name": "stderr",
     "output_type": "stream",
     "text": [
      "WARNING:absl:Found untraced functions such as _jit_compiled_convolution_op, _jit_compiled_convolution_op, _jit_compiled_convolution_op, _jit_compiled_convolution_op, _jit_compiled_convolution_op while saving (showing 5 of 13). These functions will not be directly callable after loading.\n"
     ]
    },
    {
     "name": "stdout",
     "output_type": "stream",
     "text": [
      "INFO:tensorflow:Assets written to: ./checkpoints\\VGG16_imagenet_model\\assets\n"
     ]
    },
    {
     "name": "stderr",
     "output_type": "stream",
     "text": [
      "INFO:tensorflow:Assets written to: ./checkpoints\\VGG16_imagenet_model\\assets\n"
     ]
    },
    {
     "name": "stdout",
     "output_type": "stream",
     "text": [
      "50/50 [==============================] - 17s 336ms/step - loss: 0.2580 - accuracy: 0.7855 - val_loss: 0.2397 - val_accuracy: 0.8408\n",
      "Epoch 12/120\n",
      "50/50 [==============================] - ETA: 0s - loss: 0.2563 - accuracy: 0.7890\n",
      "Epoch 12: val_accuracy did not improve from 0.84083\n",
      "50/50 [==============================] - 14s 282ms/step - loss: 0.2563 - accuracy: 0.7890 - val_loss: 0.2351 - val_accuracy: 0.8400\n",
      "Epoch 13/120\n",
      "50/50 [==============================] - ETA: 0s - loss: 0.2639 - accuracy: 0.7810\n",
      "Epoch 13: val_accuracy improved from 0.84083 to 0.84667, saving model to ./checkpoints\\VGG16_imagenet_model\n"
     ]
    },
    {
     "name": "stderr",
     "output_type": "stream",
     "text": [
      "WARNING:absl:Found untraced functions such as _jit_compiled_convolution_op, _jit_compiled_convolution_op, _jit_compiled_convolution_op, _jit_compiled_convolution_op, _jit_compiled_convolution_op while saving (showing 5 of 13). These functions will not be directly callable after loading.\n"
     ]
    },
    {
     "name": "stdout",
     "output_type": "stream",
     "text": [
      "INFO:tensorflow:Assets written to: ./checkpoints\\VGG16_imagenet_model\\assets\n"
     ]
    },
    {
     "name": "stderr",
     "output_type": "stream",
     "text": [
      "INFO:tensorflow:Assets written to: ./checkpoints\\VGG16_imagenet_model\\assets\n"
     ]
    },
    {
     "name": "stdout",
     "output_type": "stream",
     "text": [
      "50/50 [==============================] - 17s 339ms/step - loss: 0.2639 - accuracy: 0.7810 - val_loss: 0.2313 - val_accuracy: 0.8467\n",
      "Epoch 14/120\n",
      "50/50 [==============================] - ETA: 0s - loss: 0.2568 - accuracy: 0.7880\n",
      "Epoch 14: val_accuracy did not improve from 0.84667\n",
      "50/50 [==============================] - 14s 282ms/step - loss: 0.2568 - accuracy: 0.7880 - val_loss: 0.2313 - val_accuracy: 0.8442\n",
      "Epoch 15/120\n",
      "50/50 [==============================] - ETA: 0s - loss: 0.2486 - accuracy: 0.7858\n",
      "Epoch 15: val_accuracy did not improve from 0.84667\n",
      "50/50 [==============================] - 14s 280ms/step - loss: 0.2486 - accuracy: 0.7858 - val_loss: 0.2298 - val_accuracy: 0.8417\n",
      "Epoch 16/120\n",
      "50/50 [==============================] - ETA: 0s - loss: 0.2464 - accuracy: 0.7965\n",
      "Epoch 16: val_accuracy did not improve from 0.84667\n",
      "50/50 [==============================] - 14s 282ms/step - loss: 0.2464 - accuracy: 0.7965 - val_loss: 0.2278 - val_accuracy: 0.8450\n",
      "Epoch 17/120\n",
      "50/50 [==============================] - ETA: 0s - loss: 0.2390 - accuracy: 0.8049\n",
      "Epoch 17: val_accuracy improved from 0.84667 to 0.84750, saving model to ./checkpoints\\VGG16_imagenet_model\n"
     ]
    },
    {
     "name": "stderr",
     "output_type": "stream",
     "text": [
      "WARNING:absl:Found untraced functions such as _jit_compiled_convolution_op, _jit_compiled_convolution_op, _jit_compiled_convolution_op, _jit_compiled_convolution_op, _jit_compiled_convolution_op while saving (showing 5 of 13). These functions will not be directly callable after loading.\n"
     ]
    },
    {
     "name": "stdout",
     "output_type": "stream",
     "text": [
      "INFO:tensorflow:Assets written to: ./checkpoints\\VGG16_imagenet_model\\assets\n"
     ]
    },
    {
     "name": "stderr",
     "output_type": "stream",
     "text": [
      "INFO:tensorflow:Assets written to: ./checkpoints\\VGG16_imagenet_model\\assets\n"
     ]
    },
    {
     "name": "stdout",
     "output_type": "stream",
     "text": [
      "50/50 [==============================] - 17s 342ms/step - loss: 0.2390 - accuracy: 0.8049 - val_loss: 0.2271 - val_accuracy: 0.8475\n",
      "Epoch 18/120\n",
      "50/50 [==============================] - ETA: 0s - loss: 0.2346 - accuracy: 0.8170\n",
      "Epoch 18: val_accuracy improved from 0.84750 to 0.85333, saving model to ./checkpoints\\VGG16_imagenet_model\n"
     ]
    },
    {
     "name": "stderr",
     "output_type": "stream",
     "text": [
      "WARNING:absl:Found untraced functions such as _jit_compiled_convolution_op, _jit_compiled_convolution_op, _jit_compiled_convolution_op, _jit_compiled_convolution_op, _jit_compiled_convolution_op while saving (showing 5 of 13). These functions will not be directly callable after loading.\n"
     ]
    },
    {
     "name": "stdout",
     "output_type": "stream",
     "text": [
      "INFO:tensorflow:Assets written to: ./checkpoints\\VGG16_imagenet_model\\assets\n"
     ]
    },
    {
     "name": "stderr",
     "output_type": "stream",
     "text": [
      "INFO:tensorflow:Assets written to: ./checkpoints\\VGG16_imagenet_model\\assets\n"
     ]
    },
    {
     "name": "stdout",
     "output_type": "stream",
     "text": [
      "50/50 [==============================] - 17s 333ms/step - loss: 0.2346 - accuracy: 0.8170 - val_loss: 0.2214 - val_accuracy: 0.8533\n",
      "Epoch 19/120\n",
      "50/50 [==============================] - ETA: 0s - loss: 0.2414 - accuracy: 0.8060\n",
      "Epoch 19: val_accuracy did not improve from 0.85333\n",
      "50/50 [==============================] - 14s 284ms/step - loss: 0.2414 - accuracy: 0.8060 - val_loss: 0.2260 - val_accuracy: 0.8467\n",
      "Epoch 20/120\n",
      "50/50 [==============================] - ETA: 0s - loss: 0.2394 - accuracy: 0.8035\n",
      "Epoch 20: val_accuracy did not improve from 0.85333\n",
      "50/50 [==============================] - 14s 283ms/step - loss: 0.2394 - accuracy: 0.8035 - val_loss: 0.2255 - val_accuracy: 0.8433\n",
      "Epoch 21/120\n",
      "50/50 [==============================] - ETA: 0s - loss: 0.2427 - accuracy: 0.7994\n",
      "Epoch 21: val_accuracy did not improve from 0.85333\n",
      "50/50 [==============================] - 14s 281ms/step - loss: 0.2427 - accuracy: 0.7994 - val_loss: 0.2234 - val_accuracy: 0.8425\n",
      "Epoch 22/120\n",
      "50/50 [==============================] - ETA: 0s - loss: 0.2309 - accuracy: 0.8100\n",
      "Epoch 22: val_accuracy improved from 0.85333 to 0.85917, saving model to ./checkpoints\\VGG16_imagenet_model\n"
     ]
    },
    {
     "name": "stderr",
     "output_type": "stream",
     "text": [
      "WARNING:absl:Found untraced functions such as _jit_compiled_convolution_op, _jit_compiled_convolution_op, _jit_compiled_convolution_op, _jit_compiled_convolution_op, _jit_compiled_convolution_op while saving (showing 5 of 13). These functions will not be directly callable after loading.\n"
     ]
    },
    {
     "name": "stdout",
     "output_type": "stream",
     "text": [
      "INFO:tensorflow:Assets written to: ./checkpoints\\VGG16_imagenet_model\\assets\n"
     ]
    },
    {
     "name": "stderr",
     "output_type": "stream",
     "text": [
      "INFO:tensorflow:Assets written to: ./checkpoints\\VGG16_imagenet_model\\assets\n"
     ]
    },
    {
     "name": "stdout",
     "output_type": "stream",
     "text": [
      "50/50 [==============================] - 17s 341ms/step - loss: 0.2309 - accuracy: 0.8100 - val_loss: 0.2175 - val_accuracy: 0.8592\n",
      "Epoch 23/120\n",
      "50/50 [==============================] - ETA: 0s - loss: 0.2373 - accuracy: 0.8045\n",
      "Epoch 23: val_accuracy did not improve from 0.85917\n",
      "50/50 [==============================] - 14s 282ms/step - loss: 0.2373 - accuracy: 0.8045 - val_loss: 0.2260 - val_accuracy: 0.8392\n",
      "Epoch 24/120\n",
      "50/50 [==============================] - ETA: 0s - loss: 0.2371 - accuracy: 0.7989\n",
      "Epoch 24: val_accuracy did not improve from 0.85917\n",
      "50/50 [==============================] - 14s 281ms/step - loss: 0.2371 - accuracy: 0.7989 - val_loss: 0.2199 - val_accuracy: 0.8533\n",
      "Epoch 25/120\n",
      "50/50 [==============================] - ETA: 0s - loss: 0.2390 - accuracy: 0.8065\n",
      "Epoch 25: val_accuracy did not improve from 0.85917\n",
      "50/50 [==============================] - 14s 284ms/step - loss: 0.2390 - accuracy: 0.8065 - val_loss: 0.2283 - val_accuracy: 0.8450\n",
      "Epoch 26/120\n",
      "50/50 [==============================] - ETA: 0s - loss: 0.2310 - accuracy: 0.8165\n",
      "Epoch 26: val_accuracy did not improve from 0.85917\n",
      "50/50 [==============================] - 14s 284ms/step - loss: 0.2310 - accuracy: 0.8165 - val_loss: 0.2240 - val_accuracy: 0.8433\n",
      "Epoch 27/120\n",
      "50/50 [==============================] - ETA: 0s - loss: 0.2312 - accuracy: 0.8060\n",
      "Epoch 27: val_accuracy did not improve from 0.85917\n",
      "50/50 [==============================] - 14s 283ms/step - loss: 0.2312 - accuracy: 0.8060 - val_loss: 0.2213 - val_accuracy: 0.8475\n",
      "Epoch 28/120\n",
      "50/50 [==============================] - ETA: 0s - loss: 0.2290 - accuracy: 0.8155\n",
      "Epoch 28: val_accuracy did not improve from 0.85917\n",
      "50/50 [==============================] - 14s 283ms/step - loss: 0.2290 - accuracy: 0.8155 - val_loss: 0.2238 - val_accuracy: 0.8517\n",
      "Epoch 29/120\n",
      "50/50 [==============================] - ETA: 0s - loss: 0.2232 - accuracy: 0.8135\n",
      "Epoch 29: val_accuracy did not improve from 0.85917\n",
      "50/50 [==============================] - 14s 283ms/step - loss: 0.2232 - accuracy: 0.8135 - val_loss: 0.2197 - val_accuracy: 0.8525\n",
      "Epoch 30/120\n",
      "50/50 [==============================] - ETA: 0s - loss: 0.2254 - accuracy: 0.8185\n",
      "Epoch 30: val_accuracy did not improve from 0.85917\n",
      "50/50 [==============================] - 14s 283ms/step - loss: 0.2254 - accuracy: 0.8185 - val_loss: 0.2220 - val_accuracy: 0.8483\n",
      "Epoch 31/120\n",
      "50/50 [==============================] - ETA: 0s - loss: 0.2214 - accuracy: 0.8225\n",
      "Epoch 31: val_accuracy did not improve from 0.85917\n",
      "50/50 [==============================] - 14s 284ms/step - loss: 0.2214 - accuracy: 0.8225 - val_loss: 0.2147 - val_accuracy: 0.8558\n",
      "Epoch 32/120\n",
      "50/50 [==============================] - ETA: 0s - loss: 0.2241 - accuracy: 0.8095\n",
      "Epoch 32: val_accuracy did not improve from 0.85917\n",
      "50/50 [==============================] - 14s 283ms/step - loss: 0.2241 - accuracy: 0.8095 - val_loss: 0.2178 - val_accuracy: 0.8558\n"
     ]
    }
   ],
   "source": [
    "checkpoint = ModelCheckpoint('./checkpoints/VGG16_imagenet_model', monitor='val_accuracy', verbose=1, save_best_only=True, mode='max')\n",
    "es = EarlyStopping(monitor='val_accuracy', patience=10)\n",
    "callbacks_list = [checkpoint, es]\n",
    "\n",
    "imagenet_model_history = imagenet_model.fit(\n",
    "    train_data,\n",
    "    steps_per_epoch=50,\n",
    "    epochs=120,\n",
    "    validation_data=val_data,\n",
    "    validation_steps=30,\n",
    "    callbacks = callbacks_list,\n",
    ")"
   ]
  },
  {
   "cell_type": "code",
   "execution_count": 11,
   "id": "34937764",
   "metadata": {},
   "outputs": [
    {
     "data": {
      "image/png": "[encoded data removed]",
      "text/plain": [
       "<Figure size 640x480 with 1 Axes>"
      ]
     },
     "metadata": {},
     "output_type": "display_data"
    }
   ],
   "source": [
    "plot_acc(imagenet_model_history, \"imagenet_locked_weights\")"
   ]
  },
  {
   "cell_type": "code",
   "execution_count": 12,
   "id": "6679dd12",
   "metadata": {},
   "outputs": [
    {
     "data": {
      "image/png": "[encoded data removed]",
      "text/plain": [
       "<Figure size 640x480 with 1 Axes>"
      ]
     },
     "metadata": {},
     "output_type": "display_data"
    }
   ],
   "source": [
    "plot_loss(imagenet_model_history, \"imagenet_locked_weights\")"
   ]
  },
  {
   "cell_type": "code",
   "execution_count": 13,
   "id": "4146dd95",
   "metadata": {},
   "outputs": [
    {
     "name": "stdout",
     "output_type": "stream",
     "text": [
      "Model: \"sequential_1\"\n",
      "_________________________________________________________________\n",
      " Layer (type)                Output Shape              Param #   \n",
      "=================================================================\n",
      " vgg16 (Functional)          (None, 7, 7, 512)         14714688  \n",
      "                                                                 \n",
      " dropout_2 (Dropout)         (None, 7, 7, 512)         0         \n",
      "                                                                 \n",
      " flatten_1 (Flatten)         (None, 25088)             0         \n",
      "                                                                 \n",
      " dropout_3 (Dropout)         (None, 25088)             0         \n",
      "                                                                 \n",
      " dense_1 (Dense)             (None, 4)                 100356    \n",
      "                                                                 \n",
      "=================================================================\n",
      "Total params: 14,815,044\n",
      "Trainable params: 14,815,044\n",
      "Non-trainable params: 0\n",
      "_________________________________________________________________\n"
     ]
    }
   ],
   "source": [
    "imagenet_free_model = get_model('imagenet', include_top_layer=False, input_size=(224,224,3), trainable=True, classes=4)\n",
    "imagenet_free_model.summary()"
   ]
  },
  {
   "cell_type": "code",
   "execution_count": 14,
   "id": "b23c4bc5",
   "metadata": {},
   "outputs": [
    {
     "name": "stdout",
     "output_type": "stream",
     "text": [
      "Epoch 1/120\n",
      "50/50 [==============================] - ETA: 0s - loss: 0.5955 - accuracy: 0.2690\n",
      "Epoch 1: val_accuracy improved from -inf to 0.30250, saving model to ./checkpoints\\VGG16_imagenet_free_model\n"
     ]
    },
    {
     "name": "stderr",
     "output_type": "stream",
     "text": [
      "WARNING:absl:Found untraced functions such as _jit_compiled_convolution_op, _jit_compiled_convolution_op, _jit_compiled_convolution_op, _jit_compiled_convolution_op, _jit_compiled_convolution_op while saving (showing 5 of 13). These functions will not be directly callable after loading.\n"
     ]
    },
    {
     "name": "stdout",
     "output_type": "stream",
     "text": [
      "INFO:tensorflow:Assets written to: ./checkpoints\\VGG16_imagenet_free_model\\assets\n"
     ]
    },
    {
     "name": "stderr",
     "output_type": "stream",
     "text": [
      "INFO:tensorflow:Assets written to: ./checkpoints\\VGG16_imagenet_free_model\\assets\n"
     ]
    },
    {
     "name": "stdout",
     "output_type": "stream",
     "text": [
      "50/50 [==============================] - 51s 1000ms/step - loss: 0.5955 - accuracy: 0.2690 - val_loss: 0.5551 - val_accuracy: 0.3025\n",
      "Epoch 2/120\n",
      "50/50 [==============================] - ETA: 0s - loss: 0.5287 - accuracy: 0.4005\n",
      "Epoch 2: val_accuracy improved from 0.30250 to 0.57833, saving model to ./checkpoints\\VGG16_imagenet_free_model\n"
     ]
    },
    {
     "name": "stderr",
     "output_type": "stream",
     "text": [
      "WARNING:absl:Found untraced functions such as _jit_compiled_convolution_op, _jit_compiled_convolution_op, _jit_compiled_convolution_op, _jit_compiled_convolution_op, _jit_compiled_convolution_op while saving (showing 5 of 13). These functions will not be directly callable after loading.\n"
     ]
    },
    {
     "name": "stdout",
     "output_type": "stream",
     "text": [
      "INFO:tensorflow:Assets written to: ./checkpoints\\VGG16_imagenet_free_model\\assets\n"
     ]
    },
    {
     "name": "stderr",
     "output_type": "stream",
     "text": [
      "INFO:tensorflow:Assets written to: ./checkpoints\\VGG16_imagenet_free_model\\assets\n"
     ]
    },
    {
     "name": "stdout",
     "output_type": "stream",
     "text": [
      "50/50 [==============================] - 49s 982ms/step - loss: 0.5287 - accuracy: 0.4005 - val_loss: 0.4489 - val_accuracy: 0.5783\n",
      "Epoch 3/120\n",
      "50/50 [==============================] - ETA: 0s - loss: 0.4416 - accuracy: 0.5495\n",
      "Epoch 3: val_accuracy did not improve from 0.57833\n",
      "50/50 [==============================] - 46s 911ms/step - loss: 0.4416 - accuracy: 0.5495 - val_loss: 0.4063 - val_accuracy: 0.5708\n",
      "Epoch 4/120\n",
      "50/50 [==============================] - ETA: 0s - loss: 0.3916 - accuracy: 0.6245\n",
      "Epoch 4: val_accuracy improved from 0.57833 to 0.66500, saving model to ./checkpoints\\VGG16_imagenet_free_model\n"
     ]
    },
    {
     "name": "stderr",
     "output_type": "stream",
     "text": [
      "WARNING:absl:Found untraced functions such as _jit_compiled_convolution_op, _jit_compiled_convolution_op, _jit_compiled_convolution_op, _jit_compiled_convolution_op, _jit_compiled_convolution_op while saving (showing 5 of 13). These functions will not be directly callable after loading.\n"
     ]
    },
    {
     "name": "stdout",
     "output_type": "stream",
     "text": [
      "INFO:tensorflow:Assets written to: ./checkpoints\\VGG16_imagenet_free_model\\assets\n"
     ]
    },
    {
     "name": "stderr",
     "output_type": "stream",
     "text": [
      "INFO:tensorflow:Assets written to: ./checkpoints\\VGG16_imagenet_free_model\\assets\n"
     ]
    },
    {
     "name": "stdout",
     "output_type": "stream",
     "text": [
      "50/50 [==============================] - 49s 986ms/step - loss: 0.3916 - accuracy: 0.6245 - val_loss: 0.3584 - val_accuracy: 0.6650\n",
      "Epoch 5/120\n",
      "50/50 [==============================] - ETA: 0s - loss: 0.3525 - accuracy: 0.6605\n",
      "Epoch 5: val_accuracy improved from 0.66500 to 0.66917, saving model to ./checkpoints\\VGG16_imagenet_free_model\n"
     ]
    },
    {
     "name": "stderr",
     "output_type": "stream",
     "text": [
      "WARNING:absl:Found untraced functions such as _jit_compiled_convolution_op, _jit_compiled_convolution_op, _jit_compiled_convolution_op, _jit_compiled_convolution_op, _jit_compiled_convolution_op while saving (showing 5 of 13). These functions will not be directly callable after loading.\n"
     ]
    },
    {
     "name": "stdout",
     "output_type": "stream",
     "text": [
      "INFO:tensorflow:Assets written to: ./checkpoints\\VGG16_imagenet_free_model\\assets\n"
     ]
    },
    {
     "name": "stderr",
     "output_type": "stream",
     "text": [
      "INFO:tensorflow:Assets written to: ./checkpoints\\VGG16_imagenet_free_model\\assets\n"
     ]
    },
    {
     "name": "stdout",
     "output_type": "stream",
     "text": [
      "50/50 [==============================] - 49s 984ms/step - loss: 0.3525 - accuracy: 0.6605 - val_loss: 0.3464 - val_accuracy: 0.6692\n",
      "Epoch 6/120\n",
      "50/50 [==============================] - ETA: 0s - loss: 0.3336 - accuracy: 0.6940\n",
      "Epoch 6: val_accuracy improved from 0.66917 to 0.74333, saving model to ./checkpoints\\VGG16_imagenet_free_model\n"
     ]
    },
    {
     "name": "stderr",
     "output_type": "stream",
     "text": [
      "WARNING:absl:Found untraced functions such as _jit_compiled_convolution_op, _jit_compiled_convolution_op, _jit_compiled_convolution_op, _jit_compiled_convolution_op, _jit_compiled_convolution_op while saving (showing 5 of 13). These functions will not be directly callable after loading.\n"
     ]
    },
    {
     "name": "stdout",
     "output_type": "stream",
     "text": [
      "INFO:tensorflow:Assets written to: ./checkpoints\\VGG16_imagenet_free_model\\assets\n"
     ]
    },
    {
     "name": "stderr",
     "output_type": "stream",
     "text": [
      "INFO:tensorflow:Assets written to: ./checkpoints\\VGG16_imagenet_free_model\\assets\n"
     ]
    },
    {
     "name": "stdout",
     "output_type": "stream",
     "text": [
      "50/50 [==============================] - 49s 989ms/step - loss: 0.3336 - accuracy: 0.6940 - val_loss: 0.2903 - val_accuracy: 0.7433\n",
      "Epoch 7/120\n",
      "50/50 [==============================] - ETA: 0s - loss: 0.3346 - accuracy: 0.7072\n",
      "Epoch 7: val_accuracy did not improve from 0.74333\n",
      "50/50 [==============================] - 45s 893ms/step - loss: 0.3346 - accuracy: 0.7072 - val_loss: 0.3097 - val_accuracy: 0.7275\n",
      "Epoch 8/120\n",
      "50/50 [==============================] - ETA: 0s - loss: 0.3163 - accuracy: 0.7050\n",
      "Epoch 8: val_accuracy did not improve from 0.74333\n",
      "50/50 [==============================] - 45s 910ms/step - loss: 0.3163 - accuracy: 0.7050 - val_loss: 0.2917 - val_accuracy: 0.7392\n",
      "Epoch 9/120\n",
      "50/50 [==============================] - ETA: 0s - loss: 0.3111 - accuracy: 0.7140\n",
      "Epoch 9: val_accuracy did not improve from 0.74333\n",
      "50/50 [==============================] - 45s 902ms/step - loss: 0.3111 - accuracy: 0.7140 - val_loss: 0.3195 - val_accuracy: 0.7258\n",
      "Epoch 10/120\n",
      "50/50 [==============================] - ETA: 0s - loss: 0.2974 - accuracy: 0.7385\n",
      "Epoch 10: val_accuracy did not improve from 0.74333\n",
      "50/50 [==============================] - 45s 901ms/step - loss: 0.2974 - accuracy: 0.7385 - val_loss: 0.2851 - val_accuracy: 0.7350\n",
      "Epoch 11/120\n",
      "50/50 [==============================] - ETA: 0s - loss: 0.2772 - accuracy: 0.7656\n",
      "Epoch 11: val_accuracy improved from 0.74333 to 0.75750, saving model to ./checkpoints\\VGG16_imagenet_free_model\n"
     ]
    },
    {
     "name": "stderr",
     "output_type": "stream",
     "text": [
      "WARNING:absl:Found untraced functions such as _jit_compiled_convolution_op, _jit_compiled_convolution_op, _jit_compiled_convolution_op, _jit_compiled_convolution_op, _jit_compiled_convolution_op while saving (showing 5 of 13). These functions will not be directly callable after loading.\n"
     ]
    },
    {
     "name": "stdout",
     "output_type": "stream",
     "text": [
      "INFO:tensorflow:Assets written to: ./checkpoints\\VGG16_imagenet_free_model\\assets\n"
     ]
    },
    {
     "name": "stderr",
     "output_type": "stream",
     "text": [
      "INFO:tensorflow:Assets written to: ./checkpoints\\VGG16_imagenet_free_model\\assets\n"
     ]
    },
    {
     "name": "stdout",
     "output_type": "stream",
     "text": [
      "50/50 [==============================] - 49s 983ms/step - loss: 0.2772 - accuracy: 0.7656 - val_loss: 0.2811 - val_accuracy: 0.7575\n",
      "Epoch 12/120\n",
      "50/50 [==============================] - ETA: 0s - loss: 0.2909 - accuracy: 0.7530\n",
      "Epoch 12: val_accuracy did not improve from 0.75750\n",
      "50/50 [==============================] - 45s 893ms/step - loss: 0.2909 - accuracy: 0.7530 - val_loss: 0.2786 - val_accuracy: 0.7508\n",
      "Epoch 13/120\n",
      "50/50 [==============================] - ETA: 0s - loss: 0.2874 - accuracy: 0.7415\n",
      "Epoch 13: val_accuracy improved from 0.75750 to 0.79417, saving model to ./checkpoints\\VGG16_imagenet_free_model\n"
     ]
    },
    {
     "name": "stderr",
     "output_type": "stream",
     "text": [
      "WARNING:absl:Found untraced functions such as _jit_compiled_convolution_op, _jit_compiled_convolution_op, _jit_compiled_convolution_op, _jit_compiled_convolution_op, _jit_compiled_convolution_op while saving (showing 5 of 13). These functions will not be directly callable after loading.\n"
     ]
    },
    {
     "name": "stdout",
     "output_type": "stream",
     "text": [
      "INFO:tensorflow:Assets written to: ./checkpoints\\VGG16_imagenet_free_model\\assets\n"
     ]
    },
    {
     "name": "stderr",
     "output_type": "stream",
     "text": [
      "INFO:tensorflow:Assets written to: ./checkpoints\\VGG16_imagenet_free_model\\assets\n"
     ]
    },
    {
     "name": "stdout",
     "output_type": "stream",
     "text": [
      "50/50 [==============================] - 49s 989ms/step - loss: 0.2874 - accuracy: 0.7415 - val_loss: 0.2658 - val_accuracy: 0.7942\n",
      "Epoch 14/120\n",
      "50/50 [==============================] - ETA: 0s - loss: 0.2587 - accuracy: 0.7737\n",
      "Epoch 14: val_accuracy improved from 0.79417 to 0.80250, saving model to ./checkpoints\\VGG16_imagenet_free_model\n"
     ]
    },
    {
     "name": "stderr",
     "output_type": "stream",
     "text": [
      "WARNING:absl:Found untraced functions such as _jit_compiled_convolution_op, _jit_compiled_convolution_op, _jit_compiled_convolution_op, _jit_compiled_convolution_op, _jit_compiled_convolution_op while saving (showing 5 of 13). These functions will not be directly callable after loading.\n"
     ]
    },
    {
     "name": "stdout",
     "output_type": "stream",
     "text": [
      "INFO:tensorflow:Assets written to: ./checkpoints\\VGG16_imagenet_free_model\\assets\n"
     ]
    },
    {
     "name": "stderr",
     "output_type": "stream",
     "text": [
      "INFO:tensorflow:Assets written to: ./checkpoints\\VGG16_imagenet_free_model\\assets\n"
     ]
    },
    {
     "name": "stdout",
     "output_type": "stream",
     "text": [
      "50/50 [==============================] - 49s 979ms/step - loss: 0.2587 - accuracy: 0.7737 - val_loss: 0.2539 - val_accuracy: 0.8025\n",
      "Epoch 15/120\n",
      "50/50 [==============================] - ETA: 0s - loss: 0.2746 - accuracy: 0.7445\n",
      "Epoch 15: val_accuracy did not improve from 0.80250\n",
      "50/50 [==============================] - 45s 899ms/step - loss: 0.2746 - accuracy: 0.7445 - val_loss: 0.2514 - val_accuracy: 0.7883\n",
      "Epoch 16/120\n",
      "50/50 [==============================] - ETA: 0s - loss: 0.2625 - accuracy: 0.7712\n",
      "Epoch 16: val_accuracy did not improve from 0.80250\n",
      "50/50 [==============================] - 45s 894ms/step - loss: 0.2625 - accuracy: 0.7712 - val_loss: 0.2934 - val_accuracy: 0.7075\n",
      "Epoch 17/120\n",
      "50/50 [==============================] - ETA: 0s - loss: 0.2716 - accuracy: 0.7545\n",
      "Epoch 17: val_accuracy improved from 0.80250 to 0.80583, saving model to ./checkpoints\\VGG16_imagenet_free_model\n"
     ]
    },
    {
     "name": "stderr",
     "output_type": "stream",
     "text": [
      "WARNING:absl:Found untraced functions such as _jit_compiled_convolution_op, _jit_compiled_convolution_op, _jit_compiled_convolution_op, _jit_compiled_convolution_op, _jit_compiled_convolution_op while saving (showing 5 of 13). These functions will not be directly callable after loading.\n"
     ]
    },
    {
     "name": "stdout",
     "output_type": "stream",
     "text": [
      "INFO:tensorflow:Assets written to: ./checkpoints\\VGG16_imagenet_free_model\\assets\n"
     ]
    },
    {
     "name": "stderr",
     "output_type": "stream",
     "text": [
      "INFO:tensorflow:Assets written to: ./checkpoints\\VGG16_imagenet_free_model\\assets\n"
     ]
    },
    {
     "name": "stdout",
     "output_type": "stream",
     "text": [
      "50/50 [==============================] - 49s 988ms/step - loss: 0.2716 - accuracy: 0.7545 - val_loss: 0.2384 - val_accuracy: 0.8058\n",
      "Epoch 18/120\n",
      "50/50 [==============================] - ETA: 0s - loss: 0.2519 - accuracy: 0.7828\n",
      "Epoch 18: val_accuracy did not improve from 0.80583\n",
      "50/50 [==============================] - 45s 893ms/step - loss: 0.2519 - accuracy: 0.7828 - val_loss: 0.2527 - val_accuracy: 0.7950\n",
      "Epoch 19/120\n",
      "50/50 [==============================] - ETA: 0s - loss: 0.2527 - accuracy: 0.7710\n",
      "Epoch 19: val_accuracy improved from 0.80583 to 0.81000, saving model to ./checkpoints\\VGG16_imagenet_free_model\n"
     ]
    },
    {
     "name": "stderr",
     "output_type": "stream",
     "text": [
      "WARNING:absl:Found untraced functions such as _jit_compiled_convolution_op, _jit_compiled_convolution_op, _jit_compiled_convolution_op, _jit_compiled_convolution_op, _jit_compiled_convolution_op while saving (showing 5 of 13). These functions will not be directly callable after loading.\n"
     ]
    },
    {
     "name": "stdout",
     "output_type": "stream",
     "text": [
      "INFO:tensorflow:Assets written to: ./checkpoints\\VGG16_imagenet_free_model\\assets\n"
     ]
    },
    {
     "name": "stderr",
     "output_type": "stream",
     "text": [
      "INFO:tensorflow:Assets written to: ./checkpoints\\VGG16_imagenet_free_model\\assets\n"
     ]
    },
    {
     "name": "stdout",
     "output_type": "stream",
     "text": [
      "50/50 [==============================] - 49s 985ms/step - loss: 0.2527 - accuracy: 0.7710 - val_loss: 0.2472 - val_accuracy: 0.8100\n",
      "Epoch 20/120\n",
      "50/50 [==============================] - ETA: 0s - loss: 0.2435 - accuracy: 0.7860\n",
      "Epoch 20: val_accuracy did not improve from 0.81000\n",
      "50/50 [==============================] - 45s 900ms/step - loss: 0.2435 - accuracy: 0.7860 - val_loss: 0.2473 - val_accuracy: 0.7883\n",
      "Epoch 21/120\n",
      "50/50 [==============================] - ETA: 0s - loss: 0.2346 - accuracy: 0.7969\n",
      "Epoch 21: val_accuracy did not improve from 0.81000\n",
      "50/50 [==============================] - 45s 893ms/step - loss: 0.2346 - accuracy: 0.7969 - val_loss: 0.2364 - val_accuracy: 0.7967\n",
      "Epoch 22/120\n",
      "50/50 [==============================] - ETA: 0s - loss: 0.2240 - accuracy: 0.8130\n",
      "Epoch 22: val_accuracy improved from 0.81000 to 0.83917, saving model to ./checkpoints\\VGG16_imagenet_free_model\n"
     ]
    },
    {
     "name": "stderr",
     "output_type": "stream",
     "text": [
      "WARNING:absl:Found untraced functions such as _jit_compiled_convolution_op, _jit_compiled_convolution_op, _jit_compiled_convolution_op, _jit_compiled_convolution_op, _jit_compiled_convolution_op while saving (showing 5 of 13). These functions will not be directly callable after loading.\n"
     ]
    },
    {
     "name": "stdout",
     "output_type": "stream",
     "text": [
      "INFO:tensorflow:Assets written to: ./checkpoints\\VGG16_imagenet_free_model\\assets\n"
     ]
    },
    {
     "name": "stderr",
     "output_type": "stream",
     "text": [
      "INFO:tensorflow:Assets written to: ./checkpoints\\VGG16_imagenet_free_model\\assets\n"
     ]
    },
    {
     "name": "stdout",
     "output_type": "stream",
     "text": [
      "50/50 [==============================] - 49s 989ms/step - loss: 0.2240 - accuracy: 0.8130 - val_loss: 0.2135 - val_accuracy: 0.8392\n",
      "Epoch 23/120\n",
      "50/50 [==============================] - ETA: 0s - loss: 0.2200 - accuracy: 0.8085\n",
      "Epoch 23: val_accuracy did not improve from 0.83917\n",
      "50/50 [==============================] - 45s 900ms/step - loss: 0.2200 - accuracy: 0.8085 - val_loss: 0.2256 - val_accuracy: 0.8300\n",
      "Epoch 24/120\n",
      "50/50 [==============================] - ETA: 0s - loss: 0.2270 - accuracy: 0.8065\n",
      "Epoch 24: val_accuracy did not improve from 0.83917\n",
      "50/50 [==============================] - 45s 900ms/step - loss: 0.2270 - accuracy: 0.8065 - val_loss: 0.2346 - val_accuracy: 0.8158\n",
      "Epoch 25/120\n",
      "50/50 [==============================] - ETA: 0s - loss: 0.2365 - accuracy: 0.7995\n",
      "Epoch 25: val_accuracy did not improve from 0.83917\n",
      "50/50 [==============================] - 45s 911ms/step - loss: 0.2365 - accuracy: 0.7995 - val_loss: 0.2175 - val_accuracy: 0.8308\n",
      "Epoch 26/120\n",
      "50/50 [==============================] - ETA: 0s - loss: 0.2203 - accuracy: 0.8115\n",
      "Epoch 26: val_accuracy did not improve from 0.83917\n",
      "50/50 [==============================] - 45s 907ms/step - loss: 0.2203 - accuracy: 0.8115 - val_loss: 0.2189 - val_accuracy: 0.8142\n",
      "Epoch 27/120\n",
      "50/50 [==============================] - ETA: 0s - loss: 0.2053 - accuracy: 0.8275\n",
      "Epoch 27: val_accuracy did not improve from 0.83917\n",
      "50/50 [==============================] - 45s 907ms/step - loss: 0.2053 - accuracy: 0.8275 - val_loss: 0.2145 - val_accuracy: 0.8150\n",
      "Epoch 28/120\n",
      "50/50 [==============================] - ETA: 0s - loss: 0.2104 - accuracy: 0.8280\n",
      "Epoch 28: val_accuracy did not improve from 0.83917\n",
      "50/50 [==============================] - 45s 900ms/step - loss: 0.2104 - accuracy: 0.8280 - val_loss: 0.2271 - val_accuracy: 0.8150\n",
      "Epoch 29/120\n",
      "50/50 [==============================] - ETA: 0s - loss: 0.2029 - accuracy: 0.8301\n",
      "Epoch 29: val_accuracy did not improve from 0.83917\n",
      "50/50 [==============================] - 45s 894ms/step - loss: 0.2029 - accuracy: 0.8301 - val_loss: 0.2308 - val_accuracy: 0.8283\n",
      "Epoch 30/120\n",
      "50/50 [==============================] - ETA: 0s - loss: 0.2184 - accuracy: 0.8185\n",
      "Epoch 30: val_accuracy did not improve from 0.83917\n",
      "50/50 [==============================] - 45s 900ms/step - loss: 0.2184 - accuracy: 0.8185 - val_loss: 0.2372 - val_accuracy: 0.8275\n",
      "Epoch 31/120\n",
      "50/50 [==============================] - ETA: 0s - loss: 0.2017 - accuracy: 0.8236\n",
      "Epoch 31: val_accuracy did not improve from 0.83917\n",
      "50/50 [==============================] - 45s 894ms/step - loss: 0.2017 - accuracy: 0.8236 - val_loss: 0.2140 - val_accuracy: 0.8325\n",
      "Epoch 32/120\n",
      "50/50 [==============================] - ETA: 0s - loss: 0.1914 - accuracy: 0.8255\n",
      "Epoch 32: val_accuracy did not improve from 0.83917\n",
      "50/50 [==============================] - 45s 900ms/step - loss: 0.1914 - accuracy: 0.8255 - val_loss: 0.2381 - val_accuracy: 0.8142\n"
     ]
    }
   ],
   "source": [
    "checkpoint = ModelCheckpoint('./checkpoints/VGG16_imagenet_free_model', monitor='val_accuracy', verbose=1, save_best_only=True, mode='max')\n",
    "es = EarlyStopping(monitor='val_accuracy', patience=10)\n",
    "callbacks_list = [checkpoint, es]\n",
    "\n",
    "imagenet_free_model_history = imagenet_free_model.fit(\n",
    "    train_data,\n",
    "    steps_per_epoch=50,\n",
    "    epochs=120,\n",
    "    validation_data=val_data,\n",
    "    validation_steps=30,\n",
    "    callbacks = callbacks_list,\n",
    ")"
   ]
  },
  {
   "cell_type": "code",
   "execution_count": 15,
   "id": "e5d2d532",
   "metadata": {},
   "outputs": [
    {
     "data": {
      "image/png": "[encoded data removed]",
      "text/plain": [
       "<Figure size 640x480 with 1 Axes>"
      ]
     },
     "metadata": {},
     "output_type": "display_data"
    }
   ],
   "source": [
    "plot_acc(imagenet_free_model_history, \"imagenet_unlocked_weights\")"
   ]
  },
  {
   "cell_type": "code",
   "execution_count": 16,
   "id": "25c1d0d3",
   "metadata": {},
   "outputs": [
    {
     "data": {
      "image/png": "[encoded data removed]",
      "text/plain": [
       "<Figure size 640x480 with 1 Axes>"
      ]
     },
     "metadata": {},
     "output_type": "display_data"
    }
   ],
   "source": [
    "plot_loss(imagenet_free_model_history, \"imagenet_unlocked_weights\")"
   ]
  },
  {
   "cell_type": "code",
   "execution_count": 17,
   "id": "ac63d5bc",
   "metadata": {},
   "outputs": [
    {
     "name": "stdout",
     "output_type": "stream",
     "text": [
      "Model: \"sequential_2\"\n",
      "_________________________________________________________________\n",
      " Layer (type)                Output Shape              Param #   \n",
      "=================================================================\n",
      " vgg16 (Functional)          (None, 7, 7, 512)         14714688  \n",
      "                                                                 \n",
      " dropout_4 (Dropout)         (None, 7, 7, 512)         0         \n",
      "                                                                 \n",
      " flatten_2 (Flatten)         (None, 25088)             0         \n",
      "                                                                 \n",
      " dropout_5 (Dropout)         (None, 25088)             0         \n",
      "                                                                 \n",
      " dense_2 (Dense)             (None, 4)                 100356    \n",
      "                                                                 \n",
      "=================================================================\n",
      "Total params: 14,815,044\n",
      "Trainable params: 14,815,044\n",
      "Non-trainable params: 0\n",
      "_________________________________________________________________\n"
     ]
    }
   ],
   "source": [
    "free_model = get_model(None, include_top_layer=False, input_size=(224,224,3), trainable=True, classes=4)\n",
    "free_model.summary()"
   ]
  },
  {
   "cell_type": "code",
   "execution_count": 18,
   "id": "781062c7",
   "metadata": {},
   "outputs": [
    {
     "name": "stdout",
     "output_type": "stream",
     "text": [
      "Epoch 1/120\n",
      "50/50 [==============================] - ETA: 0s - loss: 0.5923 - accuracy: 0.2595\n",
      "Epoch 1: val_accuracy improved from -inf to 0.33250, saving model to ./checkpoints\\VGG16_free_model\n"
     ]
    },
    {
     "name": "stderr",
     "output_type": "stream",
     "text": [
      "WARNING:absl:Found untraced functions such as _jit_compiled_convolution_op, _jit_compiled_convolution_op, _jit_compiled_convolution_op, _jit_compiled_convolution_op, _jit_compiled_convolution_op while saving (showing 5 of 13). These functions will not be directly callable after loading.\n"
     ]
    },
    {
     "name": "stdout",
     "output_type": "stream",
     "text": [
      "INFO:tensorflow:Assets written to: ./checkpoints\\VGG16_free_model\\assets\n"
     ]
    },
    {
     "name": "stderr",
     "output_type": "stream",
     "text": [
      "INFO:tensorflow:Assets written to: ./checkpoints\\VGG16_free_model\\assets\n"
     ]
    },
    {
     "name": "stdout",
     "output_type": "stream",
     "text": [
      "50/50 [==============================] - 50s 991ms/step - loss: 0.5923 - accuracy: 0.2595 - val_loss: 0.5573 - val_accuracy: 0.3325\n",
      "Epoch 2/120\n",
      "50/50 [==============================] - ETA: 0s - loss: 0.5209 - accuracy: 0.4030\n",
      "Epoch 2: val_accuracy improved from 0.33250 to 0.50500, saving model to ./checkpoints\\VGG16_free_model\n"
     ]
    },
    {
     "name": "stderr",
     "output_type": "stream",
     "text": [
      "WARNING:absl:Found untraced functions such as _jit_compiled_convolution_op, _jit_compiled_convolution_op, _jit_compiled_convolution_op, _jit_compiled_convolution_op, _jit_compiled_convolution_op while saving (showing 5 of 13). These functions will not be directly callable after loading.\n"
     ]
    },
    {
     "name": "stdout",
     "output_type": "stream",
     "text": [
      "INFO:tensorflow:Assets written to: ./checkpoints\\VGG16_free_model\\assets\n"
     ]
    },
    {
     "name": "stderr",
     "output_type": "stream",
     "text": [
      "INFO:tensorflow:Assets written to: ./checkpoints\\VGG16_free_model\\assets\n"
     ]
    },
    {
     "name": "stdout",
     "output_type": "stream",
     "text": [
      "50/50 [==============================] - 49s 984ms/step - loss: 0.5209 - accuracy: 0.4030 - val_loss: 0.4775 - val_accuracy: 0.5050\n",
      "Epoch 3/120\n",
      "50/50 [==============================] - ETA: 0s - loss: 0.4457 - accuracy: 0.5435\n",
      "Epoch 3: val_accuracy improved from 0.50500 to 0.54000, saving model to ./checkpoints\\VGG16_free_model\n"
     ]
    },
    {
     "name": "stderr",
     "output_type": "stream",
     "text": [
      "WARNING:absl:Found untraced functions such as _jit_compiled_convolution_op, _jit_compiled_convolution_op, _jit_compiled_convolution_op, _jit_compiled_convolution_op, _jit_compiled_convolution_op while saving (showing 5 of 13). These functions will not be directly callable after loading.\n"
     ]
    },
    {
     "name": "stdout",
     "output_type": "stream",
     "text": [
      "INFO:tensorflow:Assets written to: ./checkpoints\\VGG16_free_model\\assets\n"
     ]
    },
    {
     "name": "stderr",
     "output_type": "stream",
     "text": [
      "INFO:tensorflow:Assets written to: ./checkpoints\\VGG16_free_model\\assets\n"
     ]
    },
    {
     "name": "stdout",
     "output_type": "stream",
     "text": [
      "50/50 [==============================] - 49s 984ms/step - loss: 0.4457 - accuracy: 0.5435 - val_loss: 0.4423 - val_accuracy: 0.5400\n",
      "Epoch 4/120\n",
      "50/50 [==============================] - ETA: 0s - loss: 0.4225 - accuracy: 0.5835\n",
      "Epoch 4: val_accuracy improved from 0.54000 to 0.56333, saving model to ./checkpoints\\VGG16_free_model\n"
     ]
    },
    {
     "name": "stderr",
     "output_type": "stream",
     "text": [
      "WARNING:absl:Found untraced functions such as _jit_compiled_convolution_op, _jit_compiled_convolution_op, _jit_compiled_convolution_op, _jit_compiled_convolution_op, _jit_compiled_convolution_op while saving (showing 5 of 13). These functions will not be directly callable after loading.\n"
     ]
    },
    {
     "name": "stdout",
     "output_type": "stream",
     "text": [
      "INFO:tensorflow:Assets written to: ./checkpoints\\VGG16_free_model\\assets\n"
     ]
    },
    {
     "name": "stderr",
     "output_type": "stream",
     "text": [
      "INFO:tensorflow:Assets written to: ./checkpoints\\VGG16_free_model\\assets\n"
     ]
    },
    {
     "name": "stdout",
     "output_type": "stream",
     "text": [
      "50/50 [==============================] - 49s 981ms/step - loss: 0.4225 - accuracy: 0.5835 - val_loss: 0.4258 - val_accuracy: 0.5633\n",
      "Epoch 5/120\n",
      "50/50 [==============================] - ETA: 0s - loss: 0.4140 - accuracy: 0.5835\n",
      "Epoch 5: val_accuracy improved from 0.56333 to 0.56583, saving model to ./checkpoints\\VGG16_free_model\n"
     ]
    },
    {
     "name": "stderr",
     "output_type": "stream",
     "text": [
      "WARNING:absl:Found untraced functions such as _jit_compiled_convolution_op, _jit_compiled_convolution_op, _jit_compiled_convolution_op, _jit_compiled_convolution_op, _jit_compiled_convolution_op while saving (showing 5 of 13). These functions will not be directly callable after loading.\n"
     ]
    },
    {
     "name": "stdout",
     "output_type": "stream",
     "text": [
      "INFO:tensorflow:Assets written to: ./checkpoints\\VGG16_free_model\\assets\n"
     ]
    },
    {
     "name": "stderr",
     "output_type": "stream",
     "text": [
      "INFO:tensorflow:Assets written to: ./checkpoints\\VGG16_free_model\\assets\n"
     ]
    },
    {
     "name": "stdout",
     "output_type": "stream",
     "text": [
      "50/50 [==============================] - 49s 988ms/step - loss: 0.4140 - accuracy: 0.5835 - val_loss: 0.4327 - val_accuracy: 0.5658\n",
      "Epoch 6/120\n",
      "50/50 [==============================] - ETA: 0s - loss: 0.3771 - accuracy: 0.6366\n",
      "Epoch 6: val_accuracy improved from 0.56583 to 0.65500, saving model to ./checkpoints\\VGG16_free_model\n"
     ]
    },
    {
     "name": "stderr",
     "output_type": "stream",
     "text": [
      "WARNING:absl:Found untraced functions such as _jit_compiled_convolution_op, _jit_compiled_convolution_op, _jit_compiled_convolution_op, _jit_compiled_convolution_op, _jit_compiled_convolution_op while saving (showing 5 of 13). These functions will not be directly callable after loading.\n"
     ]
    },
    {
     "name": "stdout",
     "output_type": "stream",
     "text": [
      "INFO:tensorflow:Assets written to: ./checkpoints\\VGG16_free_model\\assets\n"
     ]
    },
    {
     "name": "stderr",
     "output_type": "stream",
     "text": [
      "INFO:tensorflow:Assets written to: ./checkpoints\\VGG16_free_model\\assets\n"
     ]
    },
    {
     "name": "stdout",
     "output_type": "stream",
     "text": [
      "50/50 [==============================] - 49s 974ms/step - loss: 0.3771 - accuracy: 0.6366 - val_loss: 0.3737 - val_accuracy: 0.6550\n",
      "Epoch 7/120\n",
      "50/50 [==============================] - ETA: 0s - loss: 0.3725 - accuracy: 0.6420\n",
      "Epoch 7: val_accuracy improved from 0.65500 to 0.67833, saving model to ./checkpoints\\VGG16_free_model\n"
     ]
    },
    {
     "name": "stderr",
     "output_type": "stream",
     "text": [
      "WARNING:absl:Found untraced functions such as _jit_compiled_convolution_op, _jit_compiled_convolution_op, _jit_compiled_convolution_op, _jit_compiled_convolution_op, _jit_compiled_convolution_op while saving (showing 5 of 13). These functions will not be directly callable after loading.\n"
     ]
    },
    {
     "name": "stdout",
     "output_type": "stream",
     "text": [
      "INFO:tensorflow:Assets written to: ./checkpoints\\VGG16_free_model\\assets\n"
     ]
    },
    {
     "name": "stderr",
     "output_type": "stream",
     "text": [
      "INFO:tensorflow:Assets written to: ./checkpoints\\VGG16_free_model\\assets\n"
     ]
    },
    {
     "name": "stdout",
     "output_type": "stream",
     "text": [
      "50/50 [==============================] - 49s 986ms/step - loss: 0.3725 - accuracy: 0.6420 - val_loss: 0.3753 - val_accuracy: 0.6783\n",
      "Epoch 8/120\n",
      "50/50 [==============================] - ETA: 0s - loss: 0.3450 - accuracy: 0.6804\n",
      "Epoch 8: val_accuracy did not improve from 0.67833\n",
      "50/50 [==============================] - 45s 893ms/step - loss: 0.3450 - accuracy: 0.6804 - val_loss: 0.3667 - val_accuracy: 0.6550\n",
      "Epoch 9/120\n",
      "50/50 [==============================] - ETA: 0s - loss: 0.3354 - accuracy: 0.6935\n",
      "Epoch 9: val_accuracy did not improve from 0.67833\n",
      "50/50 [==============================] - 45s 902ms/step - loss: 0.3354 - accuracy: 0.6935 - val_loss: 0.3593 - val_accuracy: 0.6700\n",
      "Epoch 10/120\n",
      "50/50 [==============================] - ETA: 0s - loss: 0.3212 - accuracy: 0.7180\n",
      "Epoch 10: val_accuracy did not improve from 0.67833\n",
      "50/50 [==============================] - 45s 901ms/step - loss: 0.3212 - accuracy: 0.7180 - val_loss: 0.3442 - val_accuracy: 0.6758\n",
      "Epoch 11/120\n",
      "50/50 [==============================] - ETA: 0s - loss: 0.3269 - accuracy: 0.6975\n",
      "Epoch 11: val_accuracy improved from 0.67833 to 0.73833, saving model to ./checkpoints\\VGG16_free_model\n"
     ]
    },
    {
     "name": "stderr",
     "output_type": "stream",
     "text": [
      "WARNING:absl:Found untraced functions such as _jit_compiled_convolution_op, _jit_compiled_convolution_op, _jit_compiled_convolution_op, _jit_compiled_convolution_op, _jit_compiled_convolution_op while saving (showing 5 of 13). These functions will not be directly callable after loading.\n"
     ]
    },
    {
     "name": "stdout",
     "output_type": "stream",
     "text": [
      "INFO:tensorflow:Assets written to: ./checkpoints\\VGG16_free_model\\assets\n"
     ]
    },
    {
     "name": "stderr",
     "output_type": "stream",
     "text": [
      "INFO:tensorflow:Assets written to: ./checkpoints\\VGG16_free_model\\assets\n"
     ]
    },
    {
     "name": "stdout",
     "output_type": "stream",
     "text": [
      "50/50 [==============================] - 49s 981ms/step - loss: 0.3269 - accuracy: 0.6975 - val_loss: 0.3373 - val_accuracy: 0.7383\n",
      "Epoch 12/120\n",
      "50/50 [==============================] - ETA: 0s - loss: 0.3152 - accuracy: 0.7170\n",
      "Epoch 12: val_accuracy improved from 0.73833 to 0.74167, saving model to ./checkpoints\\VGG16_free_model\n"
     ]
    },
    {
     "name": "stderr",
     "output_type": "stream",
     "text": [
      "WARNING:absl:Found untraced functions such as _jit_compiled_convolution_op, _jit_compiled_convolution_op, _jit_compiled_convolution_op, _jit_compiled_convolution_op, _jit_compiled_convolution_op while saving (showing 5 of 13). These functions will not be directly callable after loading.\n"
     ]
    },
    {
     "name": "stdout",
     "output_type": "stream",
     "text": [
      "INFO:tensorflow:Assets written to: ./checkpoints\\VGG16_free_model\\assets\n"
     ]
    },
    {
     "name": "stderr",
     "output_type": "stream",
     "text": [
      "INFO:tensorflow:Assets written to: ./checkpoints\\VGG16_free_model\\assets\n"
     ]
    },
    {
     "name": "stdout",
     "output_type": "stream",
     "text": [
      "50/50 [==============================] - 50s 1s/step - loss: 0.3152 - accuracy: 0.7170 - val_loss: 0.3202 - val_accuracy: 0.7417\n",
      "Epoch 13/120\n",
      "50/50 [==============================] - ETA: 0s - loss: 0.3064 - accuracy: 0.7404\n",
      "Epoch 13: val_accuracy improved from 0.74167 to 0.74750, saving model to ./checkpoints\\VGG16_free_model\n"
     ]
    },
    {
     "name": "stderr",
     "output_type": "stream",
     "text": [
      "WARNING:absl:Found untraced functions such as _jit_compiled_convolution_op, _jit_compiled_convolution_op, _jit_compiled_convolution_op, _jit_compiled_convolution_op, _jit_compiled_convolution_op while saving (showing 5 of 13). These functions will not be directly callable after loading.\n"
     ]
    },
    {
     "name": "stdout",
     "output_type": "stream",
     "text": [
      "INFO:tensorflow:Assets written to: ./checkpoints\\VGG16_free_model\\assets\n"
     ]
    },
    {
     "name": "stderr",
     "output_type": "stream",
     "text": [
      "INFO:tensorflow:Assets written to: ./checkpoints\\VGG16_free_model\\assets\n"
     ]
    },
    {
     "name": "stdout",
     "output_type": "stream",
     "text": [
      "50/50 [==============================] - 49s 979ms/step - loss: 0.3064 - accuracy: 0.7404 - val_loss: 0.3166 - val_accuracy: 0.7475\n",
      "Epoch 14/120\n",
      "50/50 [==============================] - ETA: 0s - loss: 0.2871 - accuracy: 0.7435\n",
      "Epoch 14: val_accuracy improved from 0.74750 to 0.76167, saving model to ./checkpoints\\VGG16_free_model\n"
     ]
    },
    {
     "name": "stderr",
     "output_type": "stream",
     "text": [
      "WARNING:absl:Found untraced functions such as _jit_compiled_convolution_op, _jit_compiled_convolution_op, _jit_compiled_convolution_op, _jit_compiled_convolution_op, _jit_compiled_convolution_op while saving (showing 5 of 13). These functions will not be directly callable after loading.\n"
     ]
    },
    {
     "name": "stdout",
     "output_type": "stream",
     "text": [
      "INFO:tensorflow:Assets written to: ./checkpoints\\VGG16_free_model\\assets\n"
     ]
    },
    {
     "name": "stderr",
     "output_type": "stream",
     "text": [
      "INFO:tensorflow:Assets written to: ./checkpoints\\VGG16_free_model\\assets\n"
     ]
    },
    {
     "name": "stdout",
     "output_type": "stream",
     "text": [
      "50/50 [==============================] - 49s 986ms/step - loss: 0.2871 - accuracy: 0.7435 - val_loss: 0.3003 - val_accuracy: 0.7617\n",
      "Epoch 15/120\n",
      "50/50 [==============================] - ETA: 0s - loss: 0.2780 - accuracy: 0.7645\n",
      "Epoch 15: val_accuracy did not improve from 0.76167\n",
      "50/50 [==============================] - 45s 906ms/step - loss: 0.2780 - accuracy: 0.7645 - val_loss: 0.3051 - val_accuracy: 0.7533\n",
      "Epoch 16/120\n",
      "50/50 [==============================] - ETA: 0s - loss: 0.2923 - accuracy: 0.7419\n",
      "Epoch 16: val_accuracy improved from 0.76167 to 0.77000, saving model to ./checkpoints\\VGG16_free_model\n"
     ]
    },
    {
     "name": "stderr",
     "output_type": "stream",
     "text": [
      "WARNING:absl:Found untraced functions such as _jit_compiled_convolution_op, _jit_compiled_convolution_op, _jit_compiled_convolution_op, _jit_compiled_convolution_op, _jit_compiled_convolution_op while saving (showing 5 of 13). These functions will not be directly callable after loading.\n"
     ]
    },
    {
     "name": "stdout",
     "output_type": "stream",
     "text": [
      "INFO:tensorflow:Assets written to: ./checkpoints\\VGG16_free_model\\assets\n"
     ]
    },
    {
     "name": "stderr",
     "output_type": "stream",
     "text": [
      "INFO:tensorflow:Assets written to: ./checkpoints\\VGG16_free_model\\assets\n"
     ]
    },
    {
     "name": "stdout",
     "output_type": "stream",
     "text": [
      "50/50 [==============================] - 49s 978ms/step - loss: 0.2923 - accuracy: 0.7419 - val_loss: 0.2881 - val_accuracy: 0.7700\n",
      "Epoch 17/120\n",
      "50/50 [==============================] - ETA: 0s - loss: 0.2900 - accuracy: 0.7420\n",
      "Epoch 17: val_accuracy improved from 0.77000 to 0.77917, saving model to ./checkpoints\\VGG16_free_model\n"
     ]
    },
    {
     "name": "stderr",
     "output_type": "stream",
     "text": [
      "WARNING:absl:Found untraced functions such as _jit_compiled_convolution_op, _jit_compiled_convolution_op, _jit_compiled_convolution_op, _jit_compiled_convolution_op, _jit_compiled_convolution_op while saving (showing 5 of 13). These functions will not be directly callable after loading.\n"
     ]
    },
    {
     "name": "stdout",
     "output_type": "stream",
     "text": [
      "INFO:tensorflow:Assets written to: ./checkpoints\\VGG16_free_model\\assets\n"
     ]
    },
    {
     "name": "stderr",
     "output_type": "stream",
     "text": [
      "INFO:tensorflow:Assets written to: ./checkpoints\\VGG16_free_model\\assets\n"
     ]
    },
    {
     "name": "stdout",
     "output_type": "stream",
     "text": [
      "50/50 [==============================] - 50s 998ms/step - loss: 0.2900 - accuracy: 0.7420 - val_loss: 0.2961 - val_accuracy: 0.7792\n",
      "Epoch 18/120\n",
      "50/50 [==============================] - ETA: 0s - loss: 0.2982 - accuracy: 0.7410\n",
      "Epoch 18: val_accuracy did not improve from 0.77917\n",
      "50/50 [==============================] - 45s 906ms/step - loss: 0.2982 - accuracy: 0.7410 - val_loss: 0.2851 - val_accuracy: 0.7733\n",
      "Epoch 19/120\n",
      "50/50 [==============================] - ETA: 0s - loss: 0.2857 - accuracy: 0.7495\n",
      "Epoch 19: val_accuracy improved from 0.77917 to 0.79083, saving model to ./checkpoints\\VGG16_free_model\n"
     ]
    },
    {
     "name": "stderr",
     "output_type": "stream",
     "text": [
      "WARNING:absl:Found untraced functions such as _jit_compiled_convolution_op, _jit_compiled_convolution_op, _jit_compiled_convolution_op, _jit_compiled_convolution_op, _jit_compiled_convolution_op while saving (showing 5 of 13). These functions will not be directly callable after loading.\n"
     ]
    },
    {
     "name": "stdout",
     "output_type": "stream",
     "text": [
      "INFO:tensorflow:Assets written to: ./checkpoints\\VGG16_free_model\\assets\n"
     ]
    },
    {
     "name": "stderr",
     "output_type": "stream",
     "text": [
      "INFO:tensorflow:Assets written to: ./checkpoints\\VGG16_free_model\\assets\n"
     ]
    },
    {
     "name": "stdout",
     "output_type": "stream",
     "text": [
      "50/50 [==============================] - 50s 993ms/step - loss: 0.2857 - accuracy: 0.7495 - val_loss: 0.2735 - val_accuracy: 0.7908\n",
      "Epoch 20/120\n",
      "50/50 [==============================] - ETA: 0s - loss: 0.2715 - accuracy: 0.7715\n",
      "Epoch 20: val_accuracy improved from 0.79083 to 0.79500, saving model to ./checkpoints\\VGG16_free_model\n"
     ]
    },
    {
     "name": "stderr",
     "output_type": "stream",
     "text": [
      "WARNING:absl:Found untraced functions such as _jit_compiled_convolution_op, _jit_compiled_convolution_op, _jit_compiled_convolution_op, _jit_compiled_convolution_op, _jit_compiled_convolution_op while saving (showing 5 of 13). These functions will not be directly callable after loading.\n"
     ]
    },
    {
     "name": "stdout",
     "output_type": "stream",
     "text": [
      "INFO:tensorflow:Assets written to: ./checkpoints\\VGG16_free_model\\assets\n"
     ]
    },
    {
     "name": "stderr",
     "output_type": "stream",
     "text": [
      "INFO:tensorflow:Assets written to: ./checkpoints\\VGG16_free_model\\assets\n"
     ]
    },
    {
     "name": "stdout",
     "output_type": "stream",
     "text": [
      "50/50 [==============================] - 49s 990ms/step - loss: 0.2715 - accuracy: 0.7715 - val_loss: 0.2655 - val_accuracy: 0.7950\n",
      "Epoch 21/120\n",
      "50/50 [==============================] - ETA: 0s - loss: 0.2557 - accuracy: 0.7838\n",
      "Epoch 21: val_accuracy improved from 0.79500 to 0.79750, saving model to ./checkpoints\\VGG16_free_model\n"
     ]
    },
    {
     "name": "stderr",
     "output_type": "stream",
     "text": [
      "WARNING:absl:Found untraced functions such as _jit_compiled_convolution_op, _jit_compiled_convolution_op, _jit_compiled_convolution_op, _jit_compiled_convolution_op, _jit_compiled_convolution_op while saving (showing 5 of 13). These functions will not be directly callable after loading.\n"
     ]
    },
    {
     "name": "stdout",
     "output_type": "stream",
     "text": [
      "INFO:tensorflow:Assets written to: ./checkpoints\\VGG16_free_model\\assets\n"
     ]
    },
    {
     "name": "stderr",
     "output_type": "stream",
     "text": [
      "INFO:tensorflow:Assets written to: ./checkpoints\\VGG16_free_model\\assets\n"
     ]
    },
    {
     "name": "stdout",
     "output_type": "stream",
     "text": [
      "50/50 [==============================] - 49s 984ms/step - loss: 0.2557 - accuracy: 0.7838 - val_loss: 0.2632 - val_accuracy: 0.7975\n",
      "Epoch 22/120\n",
      "50/50 [==============================] - ETA: 0s - loss: 0.2494 - accuracy: 0.7868\n",
      "Epoch 22: val_accuracy did not improve from 0.79750\n",
      "50/50 [==============================] - 45s 891ms/step - loss: 0.2494 - accuracy: 0.7868 - val_loss: 0.2770 - val_accuracy: 0.7700\n",
      "Epoch 23/120\n",
      "50/50 [==============================] - ETA: 0s - loss: 0.2634 - accuracy: 0.7740\n",
      "Epoch 23: val_accuracy did not improve from 0.79750\n",
      "50/50 [==============================] - 45s 898ms/step - loss: 0.2634 - accuracy: 0.7740 - val_loss: 0.2657 - val_accuracy: 0.7967\n",
      "Epoch 24/120\n",
      "50/50 [==============================] - ETA: 0s - loss: 0.2483 - accuracy: 0.7850\n",
      "Epoch 24: val_accuracy improved from 0.79750 to 0.80167, saving model to ./checkpoints\\VGG16_free_model\n"
     ]
    },
    {
     "name": "stderr",
     "output_type": "stream",
     "text": [
      "WARNING:absl:Found untraced functions such as _jit_compiled_convolution_op, _jit_compiled_convolution_op, _jit_compiled_convolution_op, _jit_compiled_convolution_op, _jit_compiled_convolution_op while saving (showing 5 of 13). These functions will not be directly callable after loading.\n"
     ]
    },
    {
     "name": "stdout",
     "output_type": "stream",
     "text": [
      "INFO:tensorflow:Assets written to: ./checkpoints\\VGG16_free_model\\assets\n"
     ]
    },
    {
     "name": "stderr",
     "output_type": "stream",
     "text": [
      "INFO:tensorflow:Assets written to: ./checkpoints\\VGG16_free_model\\assets\n"
     ]
    },
    {
     "name": "stdout",
     "output_type": "stream",
     "text": [
      "50/50 [==============================] - 50s 993ms/step - loss: 0.2483 - accuracy: 0.7850 - val_loss: 0.2715 - val_accuracy: 0.8017\n",
      "Epoch 25/120\n",
      "50/50 [==============================] - ETA: 0s - loss: 0.2523 - accuracy: 0.7980\n",
      "Epoch 25: val_accuracy did not improve from 0.80167\n",
      "50/50 [==============================] - 45s 897ms/step - loss: 0.2523 - accuracy: 0.7980 - val_loss: 0.2700 - val_accuracy: 0.8000\n",
      "Epoch 26/120\n",
      "50/50 [==============================] - ETA: 0s - loss: 0.2513 - accuracy: 0.7800\n",
      "Epoch 26: val_accuracy did not improve from 0.80167\n",
      "50/50 [==============================] - 45s 898ms/step - loss: 0.2513 - accuracy: 0.7800 - val_loss: 0.2621 - val_accuracy: 0.7975\n",
      "Epoch 27/120\n",
      "50/50 [==============================] - ETA: 0s - loss: 0.2232 - accuracy: 0.8135\n",
      "Epoch 27: val_accuracy improved from 0.80167 to 0.80250, saving model to ./checkpoints\\VGG16_free_model\n"
     ]
    },
    {
     "name": "stderr",
     "output_type": "stream",
     "text": [
      "WARNING:absl:Found untraced functions such as _jit_compiled_convolution_op, _jit_compiled_convolution_op, _jit_compiled_convolution_op, _jit_compiled_convolution_op, _jit_compiled_convolution_op while saving (showing 5 of 13). These functions will not be directly callable after loading.\n"
     ]
    },
    {
     "name": "stdout",
     "output_type": "stream",
     "text": [
      "INFO:tensorflow:Assets written to: ./checkpoints\\VGG16_free_model\\assets\n"
     ]
    },
    {
     "name": "stderr",
     "output_type": "stream",
     "text": [
      "INFO:tensorflow:Assets written to: ./checkpoints\\VGG16_free_model\\assets\n"
     ]
    },
    {
     "name": "stdout",
     "output_type": "stream",
     "text": [
      "50/50 [==============================] - 49s 988ms/step - loss: 0.2232 - accuracy: 0.8135 - val_loss: 0.2774 - val_accuracy: 0.8025\n",
      "Epoch 28/120\n",
      "50/50 [==============================] - ETA: 0s - loss: 0.2325 - accuracy: 0.8060\n",
      "Epoch 28: val_accuracy did not improve from 0.80250\n",
      "50/50 [==============================] - 45s 898ms/step - loss: 0.2325 - accuracy: 0.8060 - val_loss: 0.2708 - val_accuracy: 0.8008\n",
      "Epoch 29/120\n",
      "50/50 [==============================] - ETA: 0s - loss: 0.2322 - accuracy: 0.8025\n",
      "Epoch 29: val_accuracy improved from 0.80250 to 0.81833, saving model to ./checkpoints\\VGG16_free_model\n"
     ]
    },
    {
     "name": "stderr",
     "output_type": "stream",
     "text": [
      "WARNING:absl:Found untraced functions such as _jit_compiled_convolution_op, _jit_compiled_convolution_op, _jit_compiled_convolution_op, _jit_compiled_convolution_op, _jit_compiled_convolution_op while saving (showing 5 of 13). These functions will not be directly callable after loading.\n"
     ]
    },
    {
     "name": "stdout",
     "output_type": "stream",
     "text": [
      "INFO:tensorflow:Assets written to: ./checkpoints\\VGG16_free_model\\assets\n"
     ]
    },
    {
     "name": "stderr",
     "output_type": "stream",
     "text": [
      "INFO:tensorflow:Assets written to: ./checkpoints\\VGG16_free_model\\assets\n"
     ]
    },
    {
     "name": "stdout",
     "output_type": "stream",
     "text": [
      "50/50 [==============================] - 49s 985ms/step - loss: 0.2322 - accuracy: 0.8025 - val_loss: 0.2677 - val_accuracy: 0.8183\n",
      "Epoch 30/120\n",
      "50/50 [==============================] - ETA: 0s - loss: 0.2223 - accuracy: 0.8135\n",
      "Epoch 30: val_accuracy improved from 0.81833 to 0.82250, saving model to ./checkpoints\\VGG16_free_model\n"
     ]
    },
    {
     "name": "stderr",
     "output_type": "stream",
     "text": [
      "WARNING:absl:Found untraced functions such as _jit_compiled_convolution_op, _jit_compiled_convolution_op, _jit_compiled_convolution_op, _jit_compiled_convolution_op, _jit_compiled_convolution_op while saving (showing 5 of 13). These functions will not be directly callable after loading.\n"
     ]
    },
    {
     "name": "stdout",
     "output_type": "stream",
     "text": [
      "INFO:tensorflow:Assets written to: ./checkpoints\\VGG16_free_model\\assets\n"
     ]
    },
    {
     "name": "stderr",
     "output_type": "stream",
     "text": [
      "INFO:tensorflow:Assets written to: ./checkpoints\\VGG16_free_model\\assets\n"
     ]
    },
    {
     "name": "stdout",
     "output_type": "stream",
     "text": [
      "50/50 [==============================] - 49s 978ms/step - loss: 0.2223 - accuracy: 0.8135 - val_loss: 0.2653 - val_accuracy: 0.8225\n",
      "Epoch 31/120\n",
      "50/50 [==============================] - ETA: 0s - loss: 0.2238 - accuracy: 0.8110\n",
      "Epoch 31: val_accuracy did not improve from 0.82250\n",
      "50/50 [==============================] - 45s 895ms/step - loss: 0.2238 - accuracy: 0.8110 - val_loss: 0.2838 - val_accuracy: 0.7908\n",
      "Epoch 32/120\n",
      "50/50 [==============================] - ETA: 0s - loss: 0.2151 - accuracy: 0.8125\n",
      "Epoch 32: val_accuracy did not improve from 0.82250\n",
      "50/50 [==============================] - 45s 896ms/step - loss: 0.2151 - accuracy: 0.8125 - val_loss: 0.2667 - val_accuracy: 0.8067\n",
      "Epoch 33/120\n",
      "50/50 [==============================] - ETA: 0s - loss: 0.2272 - accuracy: 0.8115\n",
      "Epoch 33: val_accuracy did not improve from 0.82250\n",
      "50/50 [==============================] - 45s 898ms/step - loss: 0.2272 - accuracy: 0.8115 - val_loss: 0.2647 - val_accuracy: 0.8133\n",
      "Epoch 34/120\n",
      "50/50 [==============================] - ETA: 0s - loss: 0.2118 - accuracy: 0.8165\n",
      "Epoch 34: val_accuracy did not improve from 0.82250\n",
      "50/50 [==============================] - 45s 898ms/step - loss: 0.2118 - accuracy: 0.8165 - val_loss: 0.2487 - val_accuracy: 0.8200\n",
      "Epoch 35/120\n",
      "50/50 [==============================] - ETA: 0s - loss: 0.2030 - accuracy: 0.8275\n",
      "Epoch 35: val_accuracy did not improve from 0.82250\n",
      "50/50 [==============================] - 45s 898ms/step - loss: 0.2030 - accuracy: 0.8275 - val_loss: 0.2702 - val_accuracy: 0.7833\n",
      "Epoch 36/120\n",
      "50/50 [==============================] - ETA: 0s - loss: 0.2116 - accuracy: 0.8230\n",
      "Epoch 36: val_accuracy did not improve from 0.82250\n",
      "50/50 [==============================] - 45s 901ms/step - loss: 0.2116 - accuracy: 0.8230 - val_loss: 0.2463 - val_accuracy: 0.8175\n",
      "Epoch 37/120\n",
      "50/50 [==============================] - ETA: 0s - loss: 0.2074 - accuracy: 0.8160\n",
      "Epoch 37: val_accuracy did not improve from 0.82250\n",
      "50/50 [==============================] - 45s 898ms/step - loss: 0.2074 - accuracy: 0.8160 - val_loss: 0.2593 - val_accuracy: 0.8092\n",
      "Epoch 38/120\n",
      "50/50 [==============================] - ETA: 0s - loss: 0.1949 - accuracy: 0.8430\n",
      "Epoch 38: val_accuracy improved from 0.82250 to 0.83500, saving model to ./checkpoints\\VGG16_free_model\n"
     ]
    },
    {
     "name": "stderr",
     "output_type": "stream",
     "text": [
      "WARNING:absl:Found untraced functions such as _jit_compiled_convolution_op, _jit_compiled_convolution_op, _jit_compiled_convolution_op, _jit_compiled_convolution_op, _jit_compiled_convolution_op while saving (showing 5 of 13). These functions will not be directly callable after loading.\n"
     ]
    },
    {
     "name": "stdout",
     "output_type": "stream",
     "text": [
      "INFO:tensorflow:Assets written to: ./checkpoints\\VGG16_free_model\\assets\n"
     ]
    },
    {
     "name": "stderr",
     "output_type": "stream",
     "text": [
      "INFO:tensorflow:Assets written to: ./checkpoints\\VGG16_free_model\\assets\n"
     ]
    },
    {
     "name": "stdout",
     "output_type": "stream",
     "text": [
      "50/50 [==============================] - 49s 989ms/step - loss: 0.1949 - accuracy: 0.8430 - val_loss: 0.2343 - val_accuracy: 0.8350\n",
      "Epoch 39/120\n",
      "50/50 [==============================] - ETA: 0s - loss: 0.1885 - accuracy: 0.8495\n",
      "Epoch 39: val_accuracy did not improve from 0.83500\n",
      "50/50 [==============================] - 45s 897ms/step - loss: 0.1885 - accuracy: 0.8495 - val_loss: 0.2630 - val_accuracy: 0.8108\n",
      "Epoch 40/120\n",
      "50/50 [==============================] - ETA: 0s - loss: 0.2044 - accuracy: 0.8350\n",
      "Epoch 40: val_accuracy did not improve from 0.83500\n",
      "50/50 [==============================] - 45s 897ms/step - loss: 0.2044 - accuracy: 0.8350 - val_loss: 0.2573 - val_accuracy: 0.8117\n",
      "Epoch 41/120\n",
      "50/50 [==============================] - ETA: 0s - loss: 0.1884 - accuracy: 0.8490\n",
      "Epoch 41: val_accuracy did not improve from 0.83500\n",
      "50/50 [==============================] - 45s 899ms/step - loss: 0.1884 - accuracy: 0.8490 - val_loss: 0.2696 - val_accuracy: 0.8092\n",
      "Epoch 42/120\n",
      "50/50 [==============================] - ETA: 0s - loss: 0.1986 - accuracy: 0.8385\n",
      "Epoch 42: val_accuracy did not improve from 0.83500\n",
      "50/50 [==============================] - 45s 899ms/step - loss: 0.1986 - accuracy: 0.8385 - val_loss: 0.2452 - val_accuracy: 0.8217\n",
      "Epoch 43/120\n",
      "50/50 [==============================] - ETA: 0s - loss: 0.1728 - accuracy: 0.8639\n",
      "Epoch 43: val_accuracy did not improve from 0.83500\n",
      "50/50 [==============================] - 45s 894ms/step - loss: 0.1728 - accuracy: 0.8639 - val_loss: 0.2611 - val_accuracy: 0.7817\n",
      "Epoch 44/120\n",
      "50/50 [==============================] - ETA: 0s - loss: 0.1855 - accuracy: 0.8490\n",
      "Epoch 44: val_accuracy did not improve from 0.83500\n",
      "50/50 [==============================] - 45s 905ms/step - loss: 0.1855 - accuracy: 0.8490 - val_loss: 0.2557 - val_accuracy: 0.8233\n",
      "Epoch 45/120\n",
      "50/50 [==============================] - ETA: 0s - loss: 0.1688 - accuracy: 0.8654\n",
      "Epoch 45: val_accuracy did not improve from 0.83500\n",
      "50/50 [==============================] - 45s 895ms/step - loss: 0.1688 - accuracy: 0.8654 - val_loss: 0.2454 - val_accuracy: 0.8267\n",
      "Epoch 46/120\n",
      "50/50 [==============================] - ETA: 0s - loss: 0.1759 - accuracy: 0.8605\n",
      "Epoch 46: val_accuracy did not improve from 0.83500\n",
      "50/50 [==============================] - 45s 899ms/step - loss: 0.1759 - accuracy: 0.8605 - val_loss: 0.2571 - val_accuracy: 0.8225\n",
      "Epoch 47/120\n",
      "50/50 [==============================] - ETA: 0s - loss: 0.1762 - accuracy: 0.8660\n",
      "Epoch 47: val_accuracy did not improve from 0.83500\n",
      "50/50 [==============================] - 45s 900ms/step - loss: 0.1762 - accuracy: 0.8660 - val_loss: 0.2455 - val_accuracy: 0.8083\n",
      "Epoch 48/120\n",
      "50/50 [==============================] - ETA: 0s - loss: 0.1574 - accuracy: 0.8725\n",
      "Epoch 48: val_accuracy did not improve from 0.83500\n",
      "50/50 [==============================] - 45s 896ms/step - loss: 0.1574 - accuracy: 0.8725 - val_loss: 0.2604 - val_accuracy: 0.8008\n"
     ]
    }
   ],
   "source": [
    "checkpoint = ModelCheckpoint('./checkpoints/VGG16_free_model', monitor='val_accuracy', verbose=1, save_best_only=True, mode='max')\n",
    "es = EarlyStopping(monitor='val_accuracy', patience=10)\n",
    "callbacks_list = [checkpoint, es]\n",
    "\n",
    "free_model_history = free_model.fit(\n",
    "    train_data,\n",
    "    steps_per_epoch=50,\n",
    "    epochs=120,\n",
    "    validation_data=val_data,\n",
    "    validation_steps=30,\n",
    "    callbacks = callbacks_list,\n",
    ")"
   ]
  },
  {
   "cell_type": "code",
   "execution_count": 19,
   "id": "89990032",
   "metadata": {},
   "outputs": [
    {
     "data": {
      "image/png": "[encoded data removed]",
      "text/plain": [
       "<Figure size 640x480 with 1 Axes>"
      ]
     },
     "metadata": {},
     "output_type": "display_data"
    }
   ],
   "source": [
    "plot_acc(free_model_history, \"unlocked_weights\")"
   ]
  },
  {
   "cell_type": "code",
   "execution_count": 20,
   "id": "170f1a63",
   "metadata": {
    "scrolled": true
   },
   "outputs": [
    {
     "data": {
      "image/png": "[encoded data removed]",
      "text/plain": [
       "<Figure size 640x480 with 1 Axes>"
      ]
     },
     "metadata": {},
     "output_type": "display_data"
    }
   ],
   "source": [
    "plot_loss(free_model_history, \"unlocked_weights\")"
   ]
  }
 ],
 "metadata": {
  "kernelspec": {
   "display_name": "Python 3 (ipykernel)",
   "language": "python",
   "name": "python3"
  },
  "language_info": {
   "codemirror_mode": {
    "name": "ipython",
    "version": 3
   },
   "file_extension": ".py",
   "mimetype": "text/x-python",
   "name": "python",
   "nbconvert_exporter": "python",
   "pygments_lexer": "ipython3",
   "version": "3.10.7"
  }
 },
 "nbformat": 4,
 "nbformat_minor": 5
}
