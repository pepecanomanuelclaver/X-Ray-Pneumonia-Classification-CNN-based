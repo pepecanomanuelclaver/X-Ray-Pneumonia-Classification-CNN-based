{
 "cells": [
  {
   "cell_type": "code",
   "execution_count": 2,
   "metadata": {},
   "outputs": [
    {
     "name": "stderr",
     "output_type": "stream",
     "text": [
      "2023-01-27 15:27:47.037627: I tensorflow/core/platform/cpu_feature_guard.cc:193] This TensorFlow binary is optimized with oneAPI Deep Neural Network Library (oneDNN) to use the following CPU instructions in performance-critical operations:  AVX2 FMA\n",
      "To enable them in other operations, rebuild TensorFlow with the appropriate compiler flags.\n"
     ]
    }
   ],
   "source": [
    "import os\n",
    "import cv2\n",
    "import zipfile\n",
    "import numpy as np\n",
    "import pandas as pd\n",
    "import matplotlib.pyplot as plt\n",
    "import tensorflow as tf\n",
    "from tqdm import tqdm\n",
    "from skimage.io import imread, imshow\n",
    "from sklearn import svm\n",
    "from sklearn.model_selection import train_test_split, GridSearchCV, RandomizedSearchCV\n",
    "from sklearn.metrics import confusion_matrix, ConfusionMatrixDisplay, classification_report\n",
    "from keras_preprocessing.image import img_to_array, array_to_img, load_img, ImageDataGenerator"
   ]
  },
  {
   "attachments": {},
   "cell_type": "markdown",
   "metadata": {},
   "source": [
    "Below are a number of helper functions that are used in the main code"
   ]
  },
  {
   "cell_type": "code",
   "execution_count": 3,
   "metadata": {},
   "outputs": [],
   "source": [
    "#Data loader function, slightly rewritten to work with lbp calculations\n",
    "def get_data(df, imgloc):\n",
    "    data = []\n",
    "    for i in df['ogfilename']:\n",
    "        img = load_img(imgloc+i)\n",
    "        x = img_to_array(img)\n",
    "        x = x/255\n",
    "        if img.size > (224,224) or img.size < (244,244):\n",
    "            x = tf.image.resize_with_pad(x, 224, 224, method=\"nearest\")\n",
    "            x = x.numpy() #Needed for LBP\n",
    "            data.append(x)\n",
    "        else:\n",
    "            x = x.numpy()\n",
    "            data.append(x)\n",
    "    return np.asarray(data)"
   ]
  },
  {
   "cell_type": "code",
   "execution_count": 4,
   "metadata": {},
   "outputs": [],
   "source": [
    "#Vectorised lbp calculator, rewritten to work with float32, as used by tf image resizing\n",
    "def lbp_calculated_pixel(img):\n",
    "    #Get center pixel value\n",
    "    center = img[1:-1,1:-1]\n",
    "    #Create an array to stor lbp values\n",
    "    lbp_val = np.zeros_like(center)\n",
    "    #Compare the center value to its neighbours. The lbp_val array is then filled with binary numbers depending on the comparison\n",
    "    lbp_val = np.where(img[0:-2,0:-2] > center, 1, 0)\n",
    "    lbp_val += np.where(img[0:-2,1:-1] > center, 2, 0)\n",
    "    lbp_val += np.where(img[0:-2,2:] > center, 4, 0)\n",
    "    lbp_val += np.where(img[1:-1,2:] > center, 8, 0)\n",
    "    lbp_val += np.where(img[2:,2:] > center, 16, 0)\n",
    "    lbp_val += np.where(img[2:,1:-1] > center, 32, 0)\n",
    "    lbp_val += np.where(img[2:,0:-2] > center, 64, 0)\n",
    "    lbp_val += np.where(img[1:-1,0:-2] > center, 128, 0)\n",
    "    return lbp_val"
   ]
  },
  {
   "cell_type": "code",
   "execution_count": 5,
   "metadata": {},
   "outputs": [],
   "source": [
    "#Helper funcion to apply the lbp to all images in a dataset\n",
    "def apply_lbp(data):\n",
    "    lbp_applied = []\n",
    "    for img in data:\n",
    "        img_lbp = lbp_calculated_pixel(img)\n",
    "        lbp_applied.append(img_lbp)\n",
    "    return np.array(lbp_applied)"
   ]
  },
  {
   "cell_type": "code",
   "execution_count": 6,
   "metadata": {},
   "outputs": [],
   "source": [
    "#Helper function that turns lbp codes into individual histograms\n",
    "def create_lbp_hist(arr):\n",
    "    ind_hist = []\n",
    "    for i in range(arr.shape[0]):\n",
    "        hist = np.histogram(arr[i], bins=256, range=(0, 255))[0]\n",
    "        ind_hist.append(hist)\n",
    "    return ind_hist"
   ]
  },
  {
   "cell_type": "code",
   "execution_count": 7,
   "metadata": {},
   "outputs": [],
   "source": [
    "#Helper function that normalises histograms by dividing each bin by the total number of pixels in the image\n",
    "def norm_hist(arr):\n",
    "    norm = []\n",
    "    for hist in arr:\n",
    "        n_hist = hist / np.sum(hist)\n",
    "        norm.append(n_hist)\n",
    "    return norm"
   ]
  },
  {
   "cell_type": "code",
   "execution_count": 8,
   "metadata": {},
   "outputs": [],
   "source": [
    "#Labelling function\n",
    "def label(df):\n",
    "    df[\"label\"] = np.nan\n",
    "    df.loc[df[\"type\"] == \"No Pneumonia\", 'label'] = \"A\"\n",
    "    df.loc[df[\"type\"] == \"Bacterial Pneumonia\", 'label'] = \"B\"\n",
    "#     df.loc[df[\"type\"] == \"Fungal Pneumonia\", 'label'] = \"C\"\n",
    "    df.loc[df[\"type\"] == \"Viral Pneumonia\", 'label'] = \"D\"\n",
    "    df.loc[df[\"Covid\"] == True, 'label'] = \"C\"\n",
    "#     df.loc[df[\"type\"] == \"Undefined Pneumonia\", 'label'] = \"F\"\n",
    "    return df"
   ]
  },
  {
   "cell_type": "code",
   "execution_count": 9,
   "metadata": {},
   "outputs": [],
   "source": [
    "#Function to remove unwanted entries and images\n",
    "def rem_masks(df, data):\n",
    "    fungal_mask = (df['type'] == 'Fungal Pneumonia')\n",
    "    un_mask = (df['type'] == 'Undefined Pneumonia')\n",
    "    nan_mask = df['type'].isna()\n",
    "\n",
    "    # Get the index of rows with the specific condition\n",
    "    fungal_index = np.array(df.loc[fungal_mask].index)\n",
    "    un_index = np.array(df.loc[un_mask].index)\n",
    "    nan_index = np.array(df.loc[nan_mask].index)\n",
    "\n",
    "    rem_index = np.sort(np.concatenate((fungal_index,un_index,nan_index)))\n",
    "\n",
    "    df = df.drop(rem_index)\n",
    "    data = np.delete(data, rem_index, axis=0)\n",
    "    return df, data"
   ]
  },
  {
   "cell_type": "code",
   "execution_count": 10,
   "metadata": {},
   "outputs": [],
   "source": [
    "#Helper function that creates SVMs. As mentioned below, C=1000 and gamma=1 were previously found using Gridsearch\n",
    "def create_svm(x_train, y_train):\n",
    "    model = svm.SVC(C=1000, gamma=1)\n",
    "    model.fit(x_train, y_train)\n",
    "    return model"
   ]
  },
  {
   "cell_type": "code",
   "execution_count": 11,
   "metadata": {},
   "outputs": [],
   "source": [
    "#Helper function that displays confusion matrix and classification report for svm models\n",
    "def show_metrics(model, x_test, y_test):\n",
    "    pred = model.predict(x_test)\n",
    "    cm = confusion_matrix(y_test, pred, labels=model.classes_)\n",
    "    disp = ConfusionMatrixDisplay(confusion_matrix=cm, display_labels=model.classes_)\n",
    "    disp.plot()\n",
    "    plt.show()\n",
    "    print(classification_report(y_test, pred))"
   ]
  },
  {
   "attachments": {},
   "cell_type": "markdown",
   "metadata": {},
   "source": [
    "Below is the main code that handles the data to svm pipeline"
   ]
  },
  {
   "cell_type": "code",
   "execution_count": 12,
   "metadata": {},
   "outputs": [],
   "source": [
    "#Loading Data Here\n",
    "ziploc=\"/Users/lennardbornemann/PatternRec/groupProj/Final/\"\n",
    "all_img_loc=\"/Users/lennardbornemann/PatternRec/groupProj/Final/All_Img/\"\n",
    "\n",
    "og_train_zf = zipfile.ZipFile(ziploc+'train_data.zip') \n",
    "og_train_df = pd.read_csv(og_train_zf.open('train_data.csv'))\n",
    "\n",
    "testzip = zipfile.ZipFile(ziploc+'test_final.zip') \n",
    "test_df = pd.read_csv(testzip.open('test_final.csv'))\n",
    "\n",
    "aug_trainzip = zipfile.ZipFile(ziploc+'train_final.zip') \n",
    "aug_train_df = pd.read_csv(aug_trainzip.open('train_final.csv'))"
   ]
  },
  {
   "cell_type": "code",
   "execution_count": 13,
   "metadata": {},
   "outputs": [],
   "source": [
    "#Label the data - Only needed for original train. Test and augmented is already labeled correctly\n",
    "#Original train\n",
    "og_train_df = label(og_train_df)"
   ]
  },
  {
   "cell_type": "code",
   "execution_count": 14,
   "metadata": {},
   "outputs": [
    {
     "name": "stderr",
     "output_type": "stream",
     "text": [
      "2023-01-27 15:28:04.350261: I tensorflow/core/platform/cpu_feature_guard.cc:193] This TensorFlow binary is optimized with oneAPI Deep Neural Network Library (oneDNN) to use the following CPU instructions in performance-critical operations:  AVX2 FMA\n",
      "To enable them in other operations, rebuild TensorFlow with the appropriate compiler flags.\n"
     ]
    }
   ],
   "source": [
    "#Resize original images only. np.uint8 to avoid problems with lbp\n",
    "og_train_data = get_data(og_train_df, all_img_loc)\n",
    "test_data = get_data(test_df, all_img_loc)\n",
    "aug_train_data = get_data(aug_train_df, all_img_loc)"
   ]
  },
  {
   "cell_type": "code",
   "execution_count": 15,
   "metadata": {},
   "outputs": [],
   "source": [
    "#Remove unwanted images and entries - Only for original train data\n",
    "og_train_df, og_train_data = rem_masks(og_train_df, og_train_data)"
   ]
  },
  {
   "cell_type": "code",
   "execution_count": 16,
   "metadata": {},
   "outputs": [],
   "source": [
    "#Apply lbp to images\n",
    "og_train_lbp = apply_lbp(og_train_data)\n",
    "test_lbp = apply_lbp(test_data)\n",
    "aug_train_lbp = apply_lbp(aug_train_data)"
   ]
  },
  {
   "cell_type": "code",
   "execution_count": 17,
   "metadata": {},
   "outputs": [],
   "source": [
    "#Convert lbp codes to histograms\n",
    "og_train_hist = create_lbp_hist(og_train_lbp)\n",
    "test_hist = create_lbp_hist(test_lbp)\n",
    "aug_train_hist = create_lbp_hist(aug_train_lbp)"
   ]
  },
  {
   "cell_type": "code",
   "execution_count": 18,
   "metadata": {},
   "outputs": [],
   "source": [
    "#Normalise lbp histograms\n",
    "og_train_norm = norm_hist(og_train_hist)\n",
    "test_norm = norm_hist(test_hist)\n",
    "aug_train_norm = norm_hist(aug_train_hist)"
   ]
  },
  {
   "attachments": {},
   "cell_type": "markdown",
   "metadata": {},
   "source": [
    "Previous GridsearchCV and RandomisedSearchCV gave C:1000, gamma:1 as the best parameters, so those will be used to avoid running Gridsearch each time."
   ]
  },
  {
   "cell_type": "code",
   "execution_count": 20,
   "metadata": {},
   "outputs": [],
   "source": [
    "#Create svm models\n",
    "#Original train and original test\n",
    "og_train_test_model = create_svm(og_train_norm, og_train_df['label'])\n",
    "\n",
    "#Augmented train and original test\n",
    "aug_train_test_model = create_svm(aug_train_norm, aug_train_df['label'])"
   ]
  },
  {
   "cell_type": "code",
   "execution_count": 21,
   "metadata": {},
   "outputs": [
    {
     "data": {
      "image/png": "[encoded data removed]",
      "text/plain": [
       "<Figure size 432x288 with 2 Axes>"
      ]
     },
     "metadata": {
      "needs_background": "light"
     },
     "output_type": "display_data"
    },
    {
     "name": "stdout",
     "output_type": "stream",
     "text": [
      "              precision    recall  f1-score   support\n",
      "\n",
      "           A       0.80      0.91      0.85       161\n",
      "           B       0.72      0.84      0.78       282\n",
      "           C       0.88      0.81      0.84        47\n",
      "           D       0.68      0.38      0.49       145\n",
      "\n",
      "    accuracy                           0.75       635\n",
      "   macro avg       0.77      0.74      0.74       635\n",
      "weighted avg       0.75      0.75      0.74       635\n",
      "\n"
     ]
    }
   ],
   "source": [
    "show_metrics(og_train_test_model, test_norm, test_df['label'])"
   ]
  },
  {
   "cell_type": "code",
   "execution_count": 22,
   "metadata": {},
   "outputs": [
    {
     "data": {
      "image/png": "[encoded data removed]",
      "text/plain": [
       "<Figure size 432x288 with 2 Axes>"
      ]
     },
     "metadata": {
      "needs_background": "light"
     },
     "output_type": "display_data"
    },
    {
     "name": "stdout",
     "output_type": "stream",
     "text": [
      "              precision    recall  f1-score   support\n",
      "\n",
      "           A       0.65      0.86      0.74       161\n",
      "           B       0.82      0.60      0.69       282\n",
      "           C       0.58      0.96      0.73        47\n",
      "           D       0.52      0.50      0.51       145\n",
      "\n",
      "    accuracy                           0.67       635\n",
      "   macro avg       0.64      0.73      0.67       635\n",
      "weighted avg       0.69      0.67      0.67       635\n",
      "\n"
     ]
    }
   ],
   "source": [
    "show_metrics(aug_train_test_model, test_norm, test_df['label'])"
   ]
  }
 ],
 "metadata": {
  "kernelspec": {
   "display_name": "Python 3",
   "language": "python",
   "name": "python3"
  },
  "language_info": {
   "codemirror_mode": {
    "name": "ipython",
    "version": 3
   },
   "file_extension": ".py",
   "mimetype": "text/x-python",
   "name": "python",
   "nbconvert_exporter": "python",
   "pygments_lexer": "ipython3",
   "version": "3.9.0"
  },
  "orig_nbformat": 4,
  "vscode": {
   "interpreter": {
    "hash": "7812ea015bdcee6f23a998adcdd2ef97c151c0c241b7b7070987d9313e41299d"
   }
  }
 },
 "nbformat": 4,
 "nbformat_minor": 2
}
