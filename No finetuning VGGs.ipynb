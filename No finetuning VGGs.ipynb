{
 "cells": [
  {
   "cell_type": "code",
   "execution_count": 1,
   "id": "964ce37d",
   "metadata": {},
   "outputs": [],
   "source": [
    "import numpy as np\n",
    "import pandas as pd\n",
    "import keras\n",
    "import zipfile\n",
    "import tensorflow as tf\n",
    "\n",
    "#Models and layers\n",
    "from keras.models import Sequential\n",
    "from keras.layers import Dense, Conv2D, MaxPool2D, Flatten, Dropout\n",
    "from keras.applications.vgg16 import VGG16\n",
    "#optimizers TO be extended\n",
    "from keras.optimizers import Adam, RMSprop, SGD\n",
    "\n",
    "#stopping\n",
    "from keras.callbacks import EarlyStopping, ModelCheckpoint\n",
    "\n",
    "#visualizing\n",
    "import matplotlib.pyplot as plt\n",
    "from sklearn.metrics import confusion_matrix, classification_report,ConfusionMatrixDisplay\n",
    "from keras_preprocessing.image import img_to_array, array_to_img, load_img, ImageDataGenerator"
   ]
  },
  {
   "cell_type": "code",
   "execution_count": 2,
   "id": "2b306e80",
   "metadata": {},
   "outputs": [],
   "source": [
    "ziploc= \"E:/School/UU/PATREC/CXR_project/NEW_DATA/\"\n",
    "augmented_image_loc = \"E:/School/UU/PATREC/PR_images/\"\n",
    "og_image_loc = \"E:/School/UU/PATREC/.darwin/datasets/v7-labs/covid-19-chest-x-ray-dataset/images/\"\n",
    "store_model_loc = \"E:/School/UU/PATREC/checkpoints/\"\n",
    "all_img_loc = \"E:/School/UU/PATREC/PR_images/ALL/\""
   ]
  },
  {
   "cell_type": "code",
   "execution_count": 3,
   "id": "12c5b0f0",
   "metadata": {},
   "outputs": [],
   "source": [
    "trainzip =  zipfile.ZipFile(ziploc+'final_train_data.zip') \n",
    "train_df = pd.read_csv(trainzip.open('train_final.csv'))\n",
    "valzip =  zipfile.ZipFile(ziploc+'final_val_data.zip') \n",
    "val_df = pd.read_csv(valzip.open('val_final.csv'))\n",
    "testzip =  zipfile.ZipFile(ziploc+'final_test_data.zip') \n",
    "test_df = pd.read_csv(testzip.open('test_final.csv'))"
   ]
  },
  {
   "cell_type": "code",
   "execution_count": 4,
   "id": "8f9a49ca",
   "metadata": {},
   "outputs": [
    {
     "name": "stdout",
     "output_type": "stream",
     "text": [
      "Found 9119 validated image filenames belonging to 4 classes.\n",
      "Found 1139 validated image filenames belonging to 4 classes.\n",
      "Found 635 validated image filenames.\n"
     ]
    }
   ],
   "source": [
    "seed = 4\n",
    "datagenerator =  ImageDataGenerator(rescale= 1/255)\n",
    "\n",
    "# Make train rescled\n",
    "train_data = datagenerator.flow_from_dataframe(\n",
    "        dataframe = train_df,\n",
    "        directory = all_img_loc,\n",
    "        x_col = \"ogfilename\",\n",
    "        y_col = \"label\",\n",
    "        class_mode = \"categorical\",\n",
    "        batch_size = 60,\n",
    "        seed = seed,\n",
    "        shuffle = True,\n",
    "        target_size = (224,224), # changed values for vgg16\n",
    "        keep_aspect_ratio = True,\n",
    "        validate_filenames= True)\n",
    "\n",
    "# Make val data\n",
    "val_data = datagenerator.flow_from_dataframe(\n",
    "        dataframe = val_df,\n",
    "        directory = all_img_loc,\n",
    "        x_col = \"ogfilename\",\n",
    "        y_col = \"label\",\n",
    "        class_mode = \"categorical\",\n",
    "        batch_size = 40,\n",
    "        seed = seed,\n",
    "        shuffle = True,\n",
    "        target_size = (224,224), # changed values for vgg16\n",
    "        keep_aspect_ratio = True,\n",
    "        validate_filenames= True)\n",
    "\n",
    "# Make test data\n",
    "test_data = datagenerator.flow_from_dataframe(\n",
    "        dataframe = test_df,\n",
    "        directory = all_img_loc,\n",
    "        x_col = \"ogfilename\",\n",
    "        y_col = None,\n",
    "        class_mode = None,\n",
    "        batch_size = 1,\n",
    "        seed = seed,\n",
    "        shuffle = False,\n",
    "        target_size = (224,224), # changed values for vgg16\n",
    "        keep_aspect_ratio = True,\n",
    "        validate_filenames= True)"
   ]
  },
  {
   "cell_type": "code",
   "execution_count": 5,
   "id": "33f3ae6e",
   "metadata": {},
   "outputs": [],
   "source": [
    "def get_model(weight, include_top_layer, input_size, trainable, classes):\n",
    "    vgg =  VGG16(weights=weight, include_top=include_top_layer, input_shape = input_size)\n",
    "    model = Sequential()\n",
    "    model.add(vgg)\n",
    "    model.add(Dropout(0.3))\n",
    "    model.add(Flatten())\n",
    "    model.add(Dropout(0.3))\n",
    "    model.add(Dense(classes, activation='softmax'))\n",
    "    model.layers[0].trainable = trainable\n",
    "    model.compile(loss='categorical_crossentropy', \n",
    "                  optimizer=keras.optimizers.Adam(learning_rate=0.0001), \n",
    "                  metrics=[\"accuracy\"])\n",
    "    return model"
   ]
  },
  {
   "cell_type": "code",
   "execution_count": 6,
   "id": "9dba85fa",
   "metadata": {},
   "outputs": [
    {
     "name": "stdout",
     "output_type": "stream",
     "text": [
      "Model: \"sequential\"\n",
      "_________________________________________________________________\n",
      " Layer (type)                Output Shape              Param #   \n",
      "=================================================================\n",
      " vgg16 (Functional)          (None, 7, 7, 512)         14714688  \n",
      "                                                                 \n",
      " dropout (Dropout)           (None, 7, 7, 512)         0         \n",
      "                                                                 \n",
      " flatten (Flatten)           (None, 25088)             0         \n",
      "                                                                 \n",
      " dropout_1 (Dropout)         (None, 25088)             0         \n",
      "                                                                 \n",
      " dense (Dense)               (None, 4)                 100356    \n",
      "                                                                 \n",
      "=================================================================\n",
      "Total params: 14,815,044\n",
      "Trainable params: 100,356\n",
      "Non-trainable params: 14,714,688\n",
      "_________________________________________________________________\n"
     ]
    }
   ],
   "source": [
    "imagenet_model = get_model('imagenet', False, (224,224,3), False, 4)\n",
    "imagenet_model.summary()"
   ]
  },
  {
   "cell_type": "code",
   "execution_count": 7,
   "id": "4204cd3b",
   "metadata": {},
   "outputs": [
    {
     "name": "stdout",
     "output_type": "stream",
     "text": [
      "Model: \"sequential_1\"\n",
      "_________________________________________________________________\n",
      " Layer (type)                Output Shape              Param #   \n",
      "=================================================================\n",
      " vgg16 (Functional)          (None, 7, 7, 512)         14714688  \n",
      "                                                                 \n",
      " dropout_2 (Dropout)         (None, 7, 7, 512)         0         \n",
      "                                                                 \n",
      " flatten_1 (Flatten)         (None, 25088)             0         \n",
      "                                                                 \n",
      " dropout_3 (Dropout)         (None, 25088)             0         \n",
      "                                                                 \n",
      " dense_1 (Dense)             (None, 4)                 100356    \n",
      "                                                                 \n",
      "=================================================================\n",
      "Total params: 14,815,044\n",
      "Trainable params: 14,815,044\n",
      "Non-trainable params: 0\n",
      "_________________________________________________________________\n"
     ]
    }
   ],
   "source": [
    "imagenet_free_model = get_model('imagenet', include_top_layer=False, input_size=(224,224,3), trainable=True, classes=4)\n",
    "imagenet_free_model.summary()"
   ]
  },
  {
   "cell_type": "code",
   "execution_count": 8,
   "id": "1ea1667d",
   "metadata": {},
   "outputs": [],
   "source": [
    "def fit_model(modelname, storeloc, pat):\n",
    "    checkpoint = ModelCheckpoint(storeloc, monitor='val_accuracy', verbose=1, save_best_only=True, mode='max')\n",
    "    es = EarlyStopping(monitor='val_accuracy', patience=pat)\n",
    "    callbacks_list = [checkpoint, es]\n",
    "\n",
    "    history = modelname.fit(\n",
    "        train_data,\n",
    "        steps_per_epoch=50,\n",
    "        epochs=120,\n",
    "        validation_data=val_data,\n",
    "        validation_steps=28,\n",
    "        callbacks = callbacks_list,\n",
    "    )\n",
    "    return history"
   ]
  },
  {
   "cell_type": "code",
   "execution_count": 9,
   "id": "2956f465",
   "metadata": {},
   "outputs": [
    {
     "name": "stdout",
     "output_type": "stream",
     "text": [
      "Epoch 1/120\n",
      "50/50 [==============================] - ETA: 0s - loss: 1.3432 - accuracy: 0.3747\n",
      "Epoch 1: val_accuracy improved from -inf to 0.71161, saving model to E:/School/UU/PATREC/checkpoints\\\n"
     ]
    },
    {
     "name": "stderr",
     "output_type": "stream",
     "text": [
      "WARNING:absl:Found untraced functions such as _jit_compiled_convolution_op, _jit_compiled_convolution_op, _jit_compiled_convolution_op, _jit_compiled_convolution_op, _jit_compiled_convolution_op while saving (showing 5 of 13). These functions will not be directly callable after loading.\n"
     ]
    },
    {
     "name": "stdout",
     "output_type": "stream",
     "text": [
      "INFO:tensorflow:Assets written to: E:/School/UU/PATREC/checkpoints\\assets\n"
     ]
    },
    {
     "name": "stderr",
     "output_type": "stream",
     "text": [
      "INFO:tensorflow:Assets written to: E:/School/UU/PATREC/checkpoints\\assets\n"
     ]
    },
    {
     "name": "stdout",
     "output_type": "stream",
     "text": [
      "50/50 [==============================] - 74s 1s/step - loss: 1.3432 - accuracy: 0.3747 - val_loss: 0.9472 - val_accuracy: 0.7116\n",
      "Epoch 2/120\n",
      "50/50 [==============================] - ETA: 0s - loss: 1.0526 - accuracy: 0.5393\n",
      "Epoch 2: val_accuracy improved from 0.71161 to 0.74911, saving model to E:/School/UU/PATREC/checkpoints\\\n"
     ]
    },
    {
     "name": "stderr",
     "output_type": "stream",
     "text": [
      "WARNING:absl:Found untraced functions such as _jit_compiled_convolution_op, _jit_compiled_convolution_op, _jit_compiled_convolution_op, _jit_compiled_convolution_op, _jit_compiled_convolution_op while saving (showing 5 of 13). These functions will not be directly callable after loading.\n"
     ]
    },
    {
     "name": "stdout",
     "output_type": "stream",
     "text": [
      "INFO:tensorflow:Assets written to: E:/School/UU/PATREC/checkpoints\\assets\n"
     ]
    },
    {
     "name": "stderr",
     "output_type": "stream",
     "text": [
      "INFO:tensorflow:Assets written to: E:/School/UU/PATREC/checkpoints\\assets\n"
     ]
    },
    {
     "name": "stdout",
     "output_type": "stream",
     "text": [
      "50/50 [==============================] - 39s 785ms/step - loss: 1.0526 - accuracy: 0.5393 - val_loss: 0.7856 - val_accuracy: 0.7491\n",
      "Epoch 3/120\n",
      "50/50 [==============================] - ETA: 0s - loss: 0.9055 - accuracy: 0.6212\n",
      "Epoch 3: val_accuracy improved from 0.74911 to 0.75714, saving model to E:/School/UU/PATREC/checkpoints\\\n"
     ]
    },
    {
     "name": "stderr",
     "output_type": "stream",
     "text": [
      "WARNING:absl:Found untraced functions such as _jit_compiled_convolution_op, _jit_compiled_convolution_op, _jit_compiled_convolution_op, _jit_compiled_convolution_op, _jit_compiled_convolution_op while saving (showing 5 of 13). These functions will not be directly callable after loading.\n"
     ]
    },
    {
     "name": "stdout",
     "output_type": "stream",
     "text": [
      "INFO:tensorflow:Assets written to: E:/School/UU/PATREC/checkpoints\\assets\n"
     ]
    },
    {
     "name": "stderr",
     "output_type": "stream",
     "text": [
      "INFO:tensorflow:Assets written to: E:/School/UU/PATREC/checkpoints\\assets\n"
     ]
    },
    {
     "name": "stdout",
     "output_type": "stream",
     "text": [
      "50/50 [==============================] - 31s 623ms/step - loss: 0.9055 - accuracy: 0.6212 - val_loss: 0.6944 - val_accuracy: 0.7571\n",
      "Epoch 4/120\n",
      "50/50 [==============================] - ETA: 0s - loss: 0.7960 - accuracy: 0.6776\n",
      "Epoch 4: val_accuracy improved from 0.75714 to 0.77500, saving model to E:/School/UU/PATREC/checkpoints\\\n"
     ]
    },
    {
     "name": "stderr",
     "output_type": "stream",
     "text": [
      "WARNING:absl:Found untraced functions such as _jit_compiled_convolution_op, _jit_compiled_convolution_op, _jit_compiled_convolution_op, _jit_compiled_convolution_op, _jit_compiled_convolution_op while saving (showing 5 of 13). These functions will not be directly callable after loading.\n"
     ]
    },
    {
     "name": "stdout",
     "output_type": "stream",
     "text": [
      "INFO:tensorflow:Assets written to: E:/School/UU/PATREC/checkpoints\\assets\n"
     ]
    },
    {
     "name": "stderr",
     "output_type": "stream",
     "text": [
      "INFO:tensorflow:Assets written to: E:/School/UU/PATREC/checkpoints\\assets\n"
     ]
    },
    {
     "name": "stdout",
     "output_type": "stream",
     "text": [
      "50/50 [==============================] - 26s 511ms/step - loss: 0.7960 - accuracy: 0.6776 - val_loss: 0.6434 - val_accuracy: 0.7750\n",
      "Epoch 5/120\n",
      "50/50 [==============================] - ETA: 0s - loss: 0.7384 - accuracy: 0.7062\n",
      "Epoch 5: val_accuracy improved from 0.77500 to 0.79911, saving model to E:/School/UU/PATREC/checkpoints\\\n"
     ]
    },
    {
     "name": "stderr",
     "output_type": "stream",
     "text": [
      "WARNING:absl:Found untraced functions such as _jit_compiled_convolution_op, _jit_compiled_convolution_op, _jit_compiled_convolution_op, _jit_compiled_convolution_op, _jit_compiled_convolution_op while saving (showing 5 of 13). These functions will not be directly callable after loading.\n"
     ]
    },
    {
     "name": "stdout",
     "output_type": "stream",
     "text": [
      "INFO:tensorflow:Assets written to: E:/School/UU/PATREC/checkpoints\\assets\n"
     ]
    },
    {
     "name": "stderr",
     "output_type": "stream",
     "text": [
      "INFO:tensorflow:Assets written to: E:/School/UU/PATREC/checkpoints\\assets\n"
     ]
    },
    {
     "name": "stdout",
     "output_type": "stream",
     "text": [
      "50/50 [==============================] - 23s 458ms/step - loss: 0.7384 - accuracy: 0.7062 - val_loss: 0.6016 - val_accuracy: 0.7991\n",
      "Epoch 6/120\n",
      "50/50 [==============================] - ETA: 0s - loss: 0.7309 - accuracy: 0.7070\n",
      "Epoch 6: val_accuracy did not improve from 0.79911\n",
      "50/50 [==============================] - 19s 369ms/step - loss: 0.7309 - accuracy: 0.7070 - val_loss: 0.5916 - val_accuracy: 0.7920\n",
      "Epoch 7/120\n",
      "50/50 [==============================] - ETA: 0s - loss: 0.6976 - accuracy: 0.7257\n",
      "Epoch 7: val_accuracy improved from 0.79911 to 0.81339, saving model to E:/School/UU/PATREC/checkpoints\\\n"
     ]
    },
    {
     "name": "stderr",
     "output_type": "stream",
     "text": [
      "WARNING:absl:Found untraced functions such as _jit_compiled_convolution_op, _jit_compiled_convolution_op, _jit_compiled_convolution_op, _jit_compiled_convolution_op, _jit_compiled_convolution_op while saving (showing 5 of 13). These functions will not be directly callable after loading.\n"
     ]
    },
    {
     "name": "stdout",
     "output_type": "stream",
     "text": [
      "INFO:tensorflow:Assets written to: E:/School/UU/PATREC/checkpoints\\assets\n"
     ]
    },
    {
     "name": "stderr",
     "output_type": "stream",
     "text": [
      "INFO:tensorflow:Assets written to: E:/School/UU/PATREC/checkpoints\\assets\n"
     ]
    },
    {
     "name": "stdout",
     "output_type": "stream",
     "text": [
      "50/50 [==============================] - 21s 420ms/step - loss: 0.6976 - accuracy: 0.7257 - val_loss: 0.5568 - val_accuracy: 0.8134\n",
      "Epoch 8/120\n",
      "50/50 [==============================] - ETA: 0s - loss: 0.6423 - accuracy: 0.7450\n",
      "Epoch 8: val_accuracy improved from 0.81339 to 0.81429, saving model to E:/School/UU/PATREC/checkpoints\\\n"
     ]
    },
    {
     "name": "stderr",
     "output_type": "stream",
     "text": [
      "WARNING:absl:Found untraced functions such as _jit_compiled_convolution_op, _jit_compiled_convolution_op, _jit_compiled_convolution_op, _jit_compiled_convolution_op, _jit_compiled_convolution_op while saving (showing 5 of 13). These functions will not be directly callable after loading.\n"
     ]
    },
    {
     "name": "stdout",
     "output_type": "stream",
     "text": [
      "INFO:tensorflow:Assets written to: E:/School/UU/PATREC/checkpoints\\assets\n"
     ]
    },
    {
     "name": "stderr",
     "output_type": "stream",
     "text": [
      "INFO:tensorflow:Assets written to: E:/School/UU/PATREC/checkpoints\\assets\n"
     ]
    },
    {
     "name": "stdout",
     "output_type": "stream",
     "text": [
      "50/50 [==============================] - 21s 413ms/step - loss: 0.6423 - accuracy: 0.7450 - val_loss: 0.5410 - val_accuracy: 0.8143\n",
      "Epoch 9/120\n",
      "50/50 [==============================] - ETA: 0s - loss: 0.6438 - accuracy: 0.7457\n",
      "Epoch 9: val_accuracy improved from 0.81429 to 0.81964, saving model to E:/School/UU/PATREC/checkpoints\\\n"
     ]
    },
    {
     "name": "stderr",
     "output_type": "stream",
     "text": [
      "WARNING:absl:Found untraced functions such as _jit_compiled_convolution_op, _jit_compiled_convolution_op, _jit_compiled_convolution_op, _jit_compiled_convolution_op, _jit_compiled_convolution_op while saving (showing 5 of 13). These functions will not be directly callable after loading.\n"
     ]
    },
    {
     "name": "stdout",
     "output_type": "stream",
     "text": [
      "INFO:tensorflow:Assets written to: E:/School/UU/PATREC/checkpoints\\assets\n"
     ]
    },
    {
     "name": "stderr",
     "output_type": "stream",
     "text": [
      "INFO:tensorflow:Assets written to: E:/School/UU/PATREC/checkpoints\\assets\n"
     ]
    },
    {
     "name": "stdout",
     "output_type": "stream",
     "text": [
      "50/50 [==============================] - 21s 414ms/step - loss: 0.6438 - accuracy: 0.7457 - val_loss: 0.5267 - val_accuracy: 0.8196\n",
      "Epoch 10/120\n",
      "50/50 [==============================] - ETA: 0s - loss: 0.6241 - accuracy: 0.7539\n",
      "Epoch 10: val_accuracy did not improve from 0.81964\n",
      "50/50 [==============================] - 19s 372ms/step - loss: 0.6241 - accuracy: 0.7539 - val_loss: 0.5256 - val_accuracy: 0.8179\n",
      "Epoch 11/120\n",
      "50/50 [==============================] - ETA: 0s - loss: 0.6161 - accuracy: 0.7559\n",
      "Epoch 11: val_accuracy improved from 0.81964 to 0.82500, saving model to E:/School/UU/PATREC/checkpoints\\\n"
     ]
    },
    {
     "name": "stderr",
     "output_type": "stream",
     "text": [
      "WARNING:absl:Found untraced functions such as _jit_compiled_convolution_op, _jit_compiled_convolution_op, _jit_compiled_convolution_op, _jit_compiled_convolution_op, _jit_compiled_convolution_op while saving (showing 5 of 13). These functions will not be directly callable after loading.\n"
     ]
    },
    {
     "name": "stdout",
     "output_type": "stream",
     "text": [
      "INFO:tensorflow:Assets written to: E:/School/UU/PATREC/checkpoints\\assets\n"
     ]
    },
    {
     "name": "stderr",
     "output_type": "stream",
     "text": [
      "INFO:tensorflow:Assets written to: E:/School/UU/PATREC/checkpoints\\assets\n"
     ]
    },
    {
     "name": "stdout",
     "output_type": "stream",
     "text": [
      "50/50 [==============================] - 21s 423ms/step - loss: 0.6161 - accuracy: 0.7559 - val_loss: 0.5140 - val_accuracy: 0.8250\n",
      "Epoch 12/120\n",
      "50/50 [==============================] - ETA: 0s - loss: 0.5914 - accuracy: 0.7687\n",
      "Epoch 12: val_accuracy did not improve from 0.82500\n",
      "50/50 [==============================] - 19s 370ms/step - loss: 0.5914 - accuracy: 0.7687 - val_loss: 0.5065 - val_accuracy: 0.8223\n",
      "Epoch 13/120\n",
      "50/50 [==============================] - ETA: 0s - loss: 0.5650 - accuracy: 0.7796\n",
      "Epoch 13: val_accuracy improved from 0.82500 to 0.83661, saving model to E:/School/UU/PATREC/checkpoints\\\n"
     ]
    },
    {
     "name": "stderr",
     "output_type": "stream",
     "text": [
      "WARNING:absl:Found untraced functions such as _jit_compiled_convolution_op, _jit_compiled_convolution_op, _jit_compiled_convolution_op, _jit_compiled_convolution_op, _jit_compiled_convolution_op while saving (showing 5 of 13). These functions will not be directly callable after loading.\n"
     ]
    },
    {
     "name": "stdout",
     "output_type": "stream",
     "text": [
      "INFO:tensorflow:Assets written to: E:/School/UU/PATREC/checkpoints\\assets\n"
     ]
    },
    {
     "name": "stderr",
     "output_type": "stream",
     "text": [
      "INFO:tensorflow:Assets written to: E:/School/UU/PATREC/checkpoints\\assets\n"
     ]
    },
    {
     "name": "stdout",
     "output_type": "stream",
     "text": [
      "50/50 [==============================] - 21s 420ms/step - loss: 0.5650 - accuracy: 0.7796 - val_loss: 0.4910 - val_accuracy: 0.8366\n",
      "Epoch 14/120\n",
      "50/50 [==============================] - ETA: 0s - loss: 0.5590 - accuracy: 0.7799\n",
      "Epoch 14: val_accuracy did not improve from 0.83661\n",
      "50/50 [==============================] - 19s 370ms/step - loss: 0.5590 - accuracy: 0.7799 - val_loss: 0.4900 - val_accuracy: 0.8295\n",
      "Epoch 15/120\n",
      "50/50 [==============================] - ETA: 0s - loss: 0.5664 - accuracy: 0.7747\n",
      "Epoch 15: val_accuracy did not improve from 0.83661\n",
      "50/50 [==============================] - 19s 372ms/step - loss: 0.5664 - accuracy: 0.7747 - val_loss: 0.4829 - val_accuracy: 0.8348\n",
      "Epoch 16/120\n",
      "50/50 [==============================] - ETA: 0s - loss: 0.5519 - accuracy: 0.7833\n",
      "Epoch 16: val_accuracy improved from 0.83661 to 0.83750, saving model to E:/School/UU/PATREC/checkpoints\\\n"
     ]
    },
    {
     "name": "stderr",
     "output_type": "stream",
     "text": [
      "WARNING:absl:Found untraced functions such as _jit_compiled_convolution_op, _jit_compiled_convolution_op, _jit_compiled_convolution_op, _jit_compiled_convolution_op, _jit_compiled_convolution_op while saving (showing 5 of 13). These functions will not be directly callable after loading.\n"
     ]
    },
    {
     "name": "stdout",
     "output_type": "stream",
     "text": [
      "INFO:tensorflow:Assets written to: E:/School/UU/PATREC/checkpoints\\assets\n"
     ]
    },
    {
     "name": "stderr",
     "output_type": "stream",
     "text": [
      "INFO:tensorflow:Assets written to: E:/School/UU/PATREC/checkpoints\\assets\n"
     ]
    },
    {
     "name": "stdout",
     "output_type": "stream",
     "text": [
      "50/50 [==============================] - 21s 414ms/step - loss: 0.5519 - accuracy: 0.7833 - val_loss: 0.4775 - val_accuracy: 0.8375\n",
      "Epoch 17/120\n",
      "50/50 [==============================] - ETA: 0s - loss: 0.5418 - accuracy: 0.7916\n",
      "Epoch 17: val_accuracy did not improve from 0.83750\n",
      "50/50 [==============================] - 18s 361ms/step - loss: 0.5418 - accuracy: 0.7916 - val_loss: 0.4826 - val_accuracy: 0.8259\n",
      "Epoch 18/120\n",
      "50/50 [==============================] - ETA: 0s - loss: 0.5348 - accuracy: 0.7930\n",
      "Epoch 18: val_accuracy improved from 0.83750 to 0.84107, saving model to E:/School/UU/PATREC/checkpoints\\\n"
     ]
    },
    {
     "name": "stderr",
     "output_type": "stream",
     "text": [
      "WARNING:absl:Found untraced functions such as _jit_compiled_convolution_op, _jit_compiled_convolution_op, _jit_compiled_convolution_op, _jit_compiled_convolution_op, _jit_compiled_convolution_op while saving (showing 5 of 13). These functions will not be directly callable after loading.\n"
     ]
    },
    {
     "name": "stdout",
     "output_type": "stream",
     "text": [
      "INFO:tensorflow:Assets written to: E:/School/UU/PATREC/checkpoints\\assets\n"
     ]
    },
    {
     "name": "stderr",
     "output_type": "stream",
     "text": [
      "INFO:tensorflow:Assets written to: E:/School/UU/PATREC/checkpoints\\assets\n"
     ]
    },
    {
     "name": "stdout",
     "output_type": "stream",
     "text": [
      "50/50 [==============================] - 21s 421ms/step - loss: 0.5348 - accuracy: 0.7930 - val_loss: 0.4723 - val_accuracy: 0.8411\n",
      "Epoch 19/120\n",
      "50/50 [==============================] - ETA: 0s - loss: 0.5390 - accuracy: 0.7893\n",
      "Epoch 19: val_accuracy did not improve from 0.84107\n",
      "50/50 [==============================] - 19s 370ms/step - loss: 0.5390 - accuracy: 0.7893 - val_loss: 0.4698 - val_accuracy: 0.8393\n",
      "Epoch 20/120\n",
      "50/50 [==============================] - ETA: 0s - loss: 0.5246 - accuracy: 0.7963\n",
      "Epoch 20: val_accuracy improved from 0.84107 to 0.84286, saving model to E:/School/UU/PATREC/checkpoints\\\n"
     ]
    },
    {
     "name": "stderr",
     "output_type": "stream",
     "text": [
      "WARNING:absl:Found untraced functions such as _jit_compiled_convolution_op, _jit_compiled_convolution_op, _jit_compiled_convolution_op, _jit_compiled_convolution_op, _jit_compiled_convolution_op while saving (showing 5 of 13). These functions will not be directly callable after loading.\n"
     ]
    },
    {
     "name": "stdout",
     "output_type": "stream",
     "text": [
      "INFO:tensorflow:Assets written to: E:/School/UU/PATREC/checkpoints\\assets\n"
     ]
    },
    {
     "name": "stderr",
     "output_type": "stream",
     "text": [
      "INFO:tensorflow:Assets written to: E:/School/UU/PATREC/checkpoints\\assets\n"
     ]
    },
    {
     "name": "stdout",
     "output_type": "stream",
     "text": [
      "50/50 [==============================] - 22s 428ms/step - loss: 0.5246 - accuracy: 0.7963 - val_loss: 0.4610 - val_accuracy: 0.8429\n",
      "Epoch 21/120\n",
      "50/50 [==============================] - ETA: 0s - loss: 0.5256 - accuracy: 0.8023\n",
      "Epoch 21: val_accuracy improved from 0.84286 to 0.84375, saving model to E:/School/UU/PATREC/checkpoints\\\n"
     ]
    },
    {
     "name": "stderr",
     "output_type": "stream",
     "text": [
      "WARNING:absl:Found untraced functions such as _jit_compiled_convolution_op, _jit_compiled_convolution_op, _jit_compiled_convolution_op, _jit_compiled_convolution_op, _jit_compiled_convolution_op while saving (showing 5 of 13). These functions will not be directly callable after loading.\n"
     ]
    },
    {
     "name": "stdout",
     "output_type": "stream",
     "text": [
      "INFO:tensorflow:Assets written to: E:/School/UU/PATREC/checkpoints\\assets\n"
     ]
    },
    {
     "name": "stderr",
     "output_type": "stream",
     "text": [
      "INFO:tensorflow:Assets written to: E:/School/UU/PATREC/checkpoints\\assets\n"
     ]
    },
    {
     "name": "stdout",
     "output_type": "stream",
     "text": [
      "50/50 [==============================] - 21s 410ms/step - loss: 0.5256 - accuracy: 0.8023 - val_loss: 0.4611 - val_accuracy: 0.8438\n",
      "Epoch 22/120\n",
      "50/50 [==============================] - ETA: 0s - loss: 0.4956 - accuracy: 0.8073\n",
      "Epoch 22: val_accuracy did not improve from 0.84375\n",
      "50/50 [==============================] - 19s 372ms/step - loss: 0.4956 - accuracy: 0.8073 - val_loss: 0.4663 - val_accuracy: 0.8348\n",
      "Epoch 23/120\n",
      "50/50 [==============================] - ETA: 0s - loss: 0.5086 - accuracy: 0.8077\n",
      "Epoch 23: val_accuracy improved from 0.84375 to 0.84464, saving model to E:/School/UU/PATREC/checkpoints\\\n"
     ]
    },
    {
     "name": "stderr",
     "output_type": "stream",
     "text": [
      "WARNING:absl:Found untraced functions such as _jit_compiled_convolution_op, _jit_compiled_convolution_op, _jit_compiled_convolution_op, _jit_compiled_convolution_op, _jit_compiled_convolution_op while saving (showing 5 of 13). These functions will not be directly callable after loading.\n"
     ]
    },
    {
     "name": "stdout",
     "output_type": "stream",
     "text": [
      "INFO:tensorflow:Assets written to: E:/School/UU/PATREC/checkpoints\\assets\n"
     ]
    },
    {
     "name": "stderr",
     "output_type": "stream",
     "text": [
      "INFO:tensorflow:Assets written to: E:/School/UU/PATREC/checkpoints\\assets\n"
     ]
    },
    {
     "name": "stdout",
     "output_type": "stream",
     "text": [
      "50/50 [==============================] - 21s 430ms/step - loss: 0.5086 - accuracy: 0.8077 - val_loss: 0.4520 - val_accuracy: 0.8446\n",
      "Epoch 24/120\n",
      "50/50 [==============================] - ETA: 0s - loss: 0.4964 - accuracy: 0.8069\n",
      "Epoch 24: val_accuracy did not improve from 0.84464\n",
      "50/50 [==============================] - 19s 371ms/step - loss: 0.4964 - accuracy: 0.8069 - val_loss: 0.4533 - val_accuracy: 0.8420\n",
      "Epoch 25/120\n",
      "50/50 [==============================] - ETA: 0s - loss: 0.4977 - accuracy: 0.8093\n",
      "Epoch 25: val_accuracy did not improve from 0.84464\n",
      "50/50 [==============================] - 18s 362ms/step - loss: 0.4977 - accuracy: 0.8093 - val_loss: 0.4522 - val_accuracy: 0.8446\n",
      "Epoch 26/120\n",
      "50/50 [==============================] - ETA: 0s - loss: 0.4649 - accuracy: 0.8183\n",
      "Epoch 26: val_accuracy did not improve from 0.84464\n",
      "50/50 [==============================] - 18s 360ms/step - loss: 0.4649 - accuracy: 0.8183 - val_loss: 0.4525 - val_accuracy: 0.8321\n",
      "Epoch 27/120\n",
      "50/50 [==============================] - ETA: 0s - loss: 0.4826 - accuracy: 0.8113\n",
      "Epoch 27: val_accuracy did not improve from 0.84464\n",
      "50/50 [==============================] - 18s 361ms/step - loss: 0.4826 - accuracy: 0.8113 - val_loss: 0.4426 - val_accuracy: 0.8420\n",
      "Epoch 28/120\n",
      "50/50 [==============================] - ETA: 0s - loss: 0.4946 - accuracy: 0.8040\n",
      "Epoch 28: val_accuracy improved from 0.84464 to 0.84821, saving model to E:/School/UU/PATREC/checkpoints\\\n"
     ]
    },
    {
     "name": "stderr",
     "output_type": "stream",
     "text": [
      "WARNING:absl:Found untraced functions such as _jit_compiled_convolution_op, _jit_compiled_convolution_op, _jit_compiled_convolution_op, _jit_compiled_convolution_op, _jit_compiled_convolution_op while saving (showing 5 of 13). These functions will not be directly callable after loading.\n"
     ]
    },
    {
     "name": "stdout",
     "output_type": "stream",
     "text": [
      "INFO:tensorflow:Assets written to: E:/School/UU/PATREC/checkpoints\\assets\n"
     ]
    },
    {
     "name": "stderr",
     "output_type": "stream",
     "text": [
      "INFO:tensorflow:Assets written to: E:/School/UU/PATREC/checkpoints\\assets\n"
     ]
    },
    {
     "name": "stdout",
     "output_type": "stream",
     "text": [
      "50/50 [==============================] - 21s 418ms/step - loss: 0.4946 - accuracy: 0.8040 - val_loss: 0.4445 - val_accuracy: 0.8482\n",
      "Epoch 29/120\n",
      "50/50 [==============================] - ETA: 0s - loss: 0.4933 - accuracy: 0.8140\n",
      "Epoch 29: val_accuracy did not improve from 0.84821\n",
      "50/50 [==============================] - 19s 372ms/step - loss: 0.4933 - accuracy: 0.8140 - val_loss: 0.4520 - val_accuracy: 0.8286\n",
      "Epoch 30/120\n",
      "50/50 [==============================] - ETA: 0s - loss: 0.4739 - accuracy: 0.8103\n",
      "Epoch 30: val_accuracy did not improve from 0.84821\n",
      "50/50 [==============================] - 18s 361ms/step - loss: 0.4739 - accuracy: 0.8103 - val_loss: 0.4397 - val_accuracy: 0.8402\n",
      "Epoch 31/120\n",
      "50/50 [==============================] - ETA: 0s - loss: 0.4764 - accuracy: 0.8073\n",
      "Epoch 31: val_accuracy did not improve from 0.84821\n",
      "50/50 [==============================] - 19s 375ms/step - loss: 0.4764 - accuracy: 0.8073 - val_loss: 0.4574 - val_accuracy: 0.8339\n",
      "Epoch 32/120\n",
      "50/50 [==============================] - ETA: 0s - loss: 0.4712 - accuracy: 0.8123\n",
      "Epoch 32: val_accuracy did not improve from 0.84821\n",
      "50/50 [==============================] - 18s 361ms/step - loss: 0.4712 - accuracy: 0.8123 - val_loss: 0.4304 - val_accuracy: 0.8402\n",
      "Epoch 33/120\n",
      "50/50 [==============================] - ETA: 0s - loss: 0.4560 - accuracy: 0.8256\n",
      "Epoch 33: val_accuracy did not improve from 0.84821\n",
      "50/50 [==============================] - 18s 363ms/step - loss: 0.4560 - accuracy: 0.8256 - val_loss: 0.4304 - val_accuracy: 0.8420\n",
      "Epoch 34/120\n",
      "50/50 [==============================] - ETA: 0s - loss: 0.4742 - accuracy: 0.8167\n",
      "Epoch 34: val_accuracy did not improve from 0.84821\n",
      "50/50 [==============================] - 18s 362ms/step - loss: 0.4742 - accuracy: 0.8167 - val_loss: 0.4382 - val_accuracy: 0.8402\n",
      "Epoch 35/120\n",
      "50/50 [==============================] - ETA: 0s - loss: 0.4672 - accuracy: 0.8177\n",
      "Epoch 35: val_accuracy did not improve from 0.84821\n",
      "50/50 [==============================] - 19s 371ms/step - loss: 0.4672 - accuracy: 0.8177 - val_loss: 0.4405 - val_accuracy: 0.8429\n"
     ]
    }
   ],
   "source": [
    "imagenet_model_history = fit_model(imagenet_model,store_model_loc,7)\n"
   ]
  },
  {
   "cell_type": "code",
   "execution_count": 10,
   "id": "b32a534a",
   "metadata": {},
   "outputs": [],
   "source": [
    "def evaluate(model, test_data, test_df):\n",
    "    y_prediction = model.predict(test_data) #for each observation the model returns the probability of belonging to each class \n",
    "    y_prediction = np.argmax(y_prediction, axis=1) #choose the class with most probability\n",
    "\n",
    "    #Create confusion matrix and normalizes it over predicted (columns)\n",
    "    result = confusion_matrix(test_df.label, y_prediction, normalize='pred')\n",
    "    result2 = result.astype('float') / result.sum(axis=1)[:, np.newaxis]\n",
    "    acc_perclass = result.diagonal()\n",
    "    report = classification_report(test_df.label, y_prediction)\n",
    "    return result, acc_perclass, report"
   ]
  },
  {
   "cell_type": "code",
   "execution_count": 11,
   "id": "ee1a06a1",
   "metadata": {},
   "outputs": [
    {
     "name": "stdout",
     "output_type": "stream",
     "text": [
      "635/635 [==============================] - 19s 29ms/step\n"
     ]
    },
    {
     "data": {
      "image/png": "[encoded data removed]",
      "text/plain": [
       "<Figure size 640x480 with 2 Axes>"
      ]
     },
     "metadata": {},
     "output_type": "display_data"
    }
   ],
   "source": [
    "#Predict\n",
    "y_prediction_IN_model = imagenet_model.predict(test_data) #for each observation the model returns the probability of belonging to each class\n",
    "arg_y_IN_model = np.argmax(y_prediction_IN_model, axis=1) #choose the class with most probability\n",
    "a = {0:'A',1:'B',2:'C',3:'D'}\n",
    "## print(list(test_df.label))\n",
    "## print([a[i] for i in arg_y_INF_model])\n",
    "result_IN = confusion_matrix(list(test_df.label), [a[i] for i in arg_y_IN_model], normalize='pred')\n",
    "cm_display_IN = ConfusionMatrixDisplay(confusion_matrix = result_IN, display_labels = ['A','B','C','D'])\n",
    "cm_display_IN.plot()\n",
    "plt.show()"
   ]
  },
  {
   "cell_type": "code",
   "execution_count": 12,
   "id": "40ac4a42",
   "metadata": {},
   "outputs": [
    {
     "name": "stdout",
     "output_type": "stream",
     "text": [
      "Accuracy per class Model 1\n",
      "[0.84864865 0.82374101 0.8245614  0.71304348]\n",
      "Healthy      Bacterial     Covid     Viral\n"
     ]
    }
   ],
   "source": [
    "acc_perclass_IN = result_IN.diagonal()\n",
    "print(\"Accuracy per class Model 1\")\n",
    "print(acc_perclass_IN)\n",
    "print(\"Healthy      Bacterial     Covid     Viral\")\n"
   ]
  },
  {
   "cell_type": "code",
   "execution_count": 13,
   "id": "3a3470af",
   "metadata": {},
   "outputs": [
    {
     "name": "stdout",
     "output_type": "stream",
     "text": [
      "              precision    recall  f1-score   support\n",
      "\n",
      "           A       0.85      0.98      0.91       161\n",
      "           B       0.82      0.81      0.82       282\n",
      "           C       0.82      1.00      0.90        47\n",
      "           D       0.71      0.57      0.63       145\n",
      "\n",
      "    accuracy                           0.81       635\n",
      "   macro avg       0.80      0.84      0.81       635\n",
      "weighted avg       0.80      0.81      0.80       635\n",
      "\n"
     ]
    }
   ],
   "source": [
    "print(classification_report(test_df.label, [a[i] for i in arg_y_IN_model]))"
   ]
  },
  {
   "cell_type": "markdown",
   "id": "10735cd5",
   "metadata": {},
   "source": [
    "### Unfrozen"
   ]
  },
  {
   "cell_type": "code",
   "execution_count": 14,
   "id": "6bbcceae",
   "metadata": {},
   "outputs": [
    {
     "name": "stdout",
     "output_type": "stream",
     "text": [
      "Epoch 1/120\n",
      "50/50 [==============================] - ETA: 0s - loss: 1.0673 - accuracy: 0.5262\n",
      "Epoch 1: val_accuracy improved from -inf to 0.76071, saving model to E:/School/UU/PATREC/checkpoints\\\n"
     ]
    },
    {
     "name": "stderr",
     "output_type": "stream",
     "text": [
      "WARNING:absl:Found untraced functions such as _jit_compiled_convolution_op, _jit_compiled_convolution_op, _jit_compiled_convolution_op, _jit_compiled_convolution_op, _jit_compiled_convolution_op while saving (showing 5 of 13). These functions will not be directly callable after loading.\n"
     ]
    },
    {
     "name": "stdout",
     "output_type": "stream",
     "text": [
      "INFO:tensorflow:Assets written to: E:/School/UU/PATREC/checkpoints\\assets\n"
     ]
    },
    {
     "name": "stderr",
     "output_type": "stream",
     "text": [
      "INFO:tensorflow:Assets written to: E:/School/UU/PATREC/checkpoints\\assets\n"
     ]
    },
    {
     "name": "stdout",
     "output_type": "stream",
     "text": [
      "50/50 [==============================] - 71s 1s/step - loss: 1.0673 - accuracy: 0.5262 - val_loss: 0.6323 - val_accuracy: 0.7607\n",
      "Epoch 2/120\n",
      "50/50 [==============================] - ETA: 0s - loss: 0.7584 - accuracy: 0.6820\n",
      "Epoch 2: val_accuracy improved from 0.76071 to 0.80893, saving model to E:/School/UU/PATREC/checkpoints\\\n"
     ]
    },
    {
     "name": "stderr",
     "output_type": "stream",
     "text": [
      "WARNING:absl:Found untraced functions such as _jit_compiled_convolution_op, _jit_compiled_convolution_op, _jit_compiled_convolution_op, _jit_compiled_convolution_op, _jit_compiled_convolution_op while saving (showing 5 of 13). These functions will not be directly callable after loading.\n"
     ]
    },
    {
     "name": "stdout",
     "output_type": "stream",
     "text": [
      "INFO:tensorflow:Assets written to: E:/School/UU/PATREC/checkpoints\\assets\n"
     ]
    },
    {
     "name": "stderr",
     "output_type": "stream",
     "text": [
      "INFO:tensorflow:Assets written to: E:/School/UU/PATREC/checkpoints\\assets\n"
     ]
    },
    {
     "name": "stdout",
     "output_type": "stream",
     "text": [
      "50/50 [==============================] - 71s 1s/step - loss: 0.7584 - accuracy: 0.6820 - val_loss: 0.5552 - val_accuracy: 0.8089\n",
      "Epoch 3/120\n",
      "50/50 [==============================] - ETA: 0s - loss: 0.5892 - accuracy: 0.7530\n",
      "Epoch 3: val_accuracy improved from 0.80893 to 0.81607, saving model to E:/School/UU/PATREC/checkpoints\\\n"
     ]
    },
    {
     "name": "stderr",
     "output_type": "stream",
     "text": [
      "WARNING:absl:Found untraced functions such as _jit_compiled_convolution_op, _jit_compiled_convolution_op, _jit_compiled_convolution_op, _jit_compiled_convolution_op, _jit_compiled_convolution_op while saving (showing 5 of 13). These functions will not be directly callable after loading.\n"
     ]
    },
    {
     "name": "stdout",
     "output_type": "stream",
     "text": [
      "INFO:tensorflow:Assets written to: E:/School/UU/PATREC/checkpoints\\assets\n"
     ]
    },
    {
     "name": "stderr",
     "output_type": "stream",
     "text": [
      "INFO:tensorflow:Assets written to: E:/School/UU/PATREC/checkpoints\\assets\n"
     ]
    },
    {
     "name": "stdout",
     "output_type": "stream",
     "text": [
      "50/50 [==============================] - 71s 1s/step - loss: 0.5892 - accuracy: 0.7530 - val_loss: 0.4766 - val_accuracy: 0.8161\n",
      "Epoch 4/120\n",
      "50/50 [==============================] - ETA: 0s - loss: 0.5499 - accuracy: 0.7790\n",
      "Epoch 4: val_accuracy improved from 0.81607 to 0.82679, saving model to E:/School/UU/PATREC/checkpoints\\\n"
     ]
    },
    {
     "name": "stderr",
     "output_type": "stream",
     "text": [
      "WARNING:absl:Found untraced functions such as _jit_compiled_convolution_op, _jit_compiled_convolution_op, _jit_compiled_convolution_op, _jit_compiled_convolution_op, _jit_compiled_convolution_op while saving (showing 5 of 13). These functions will not be directly callable after loading.\n"
     ]
    },
    {
     "name": "stdout",
     "output_type": "stream",
     "text": [
      "INFO:tensorflow:Assets written to: E:/School/UU/PATREC/checkpoints\\assets\n"
     ]
    },
    {
     "name": "stderr",
     "output_type": "stream",
     "text": [
      "INFO:tensorflow:Assets written to: E:/School/UU/PATREC/checkpoints\\assets\n"
     ]
    },
    {
     "name": "stdout",
     "output_type": "stream",
     "text": [
      "50/50 [==============================] - 71s 1s/step - loss: 0.5499 - accuracy: 0.7790 - val_loss: 0.4620 - val_accuracy: 0.8268\n",
      "Epoch 5/120\n",
      "50/50 [==============================] - ETA: 0s - loss: 0.5223 - accuracy: 0.7959\n",
      "Epoch 5: val_accuracy improved from 0.82679 to 0.83125, saving model to E:/School/UU/PATREC/checkpoints\\\n"
     ]
    },
    {
     "name": "stderr",
     "output_type": "stream",
     "text": [
      "WARNING:absl:Found untraced functions such as _jit_compiled_convolution_op, _jit_compiled_convolution_op, _jit_compiled_convolution_op, _jit_compiled_convolution_op, _jit_compiled_convolution_op while saving (showing 5 of 13). These functions will not be directly callable after loading.\n"
     ]
    },
    {
     "name": "stdout",
     "output_type": "stream",
     "text": [
      "INFO:tensorflow:Assets written to: E:/School/UU/PATREC/checkpoints\\assets\n"
     ]
    },
    {
     "name": "stderr",
     "output_type": "stream",
     "text": [
      "INFO:tensorflow:Assets written to: E:/School/UU/PATREC/checkpoints\\assets\n"
     ]
    },
    {
     "name": "stdout",
     "output_type": "stream",
     "text": [
      "50/50 [==============================] - 71s 1s/step - loss: 0.5223 - accuracy: 0.7959 - val_loss: 0.3993 - val_accuracy: 0.8313\n",
      "Epoch 6/120\n",
      "50/50 [==============================] - ETA: 0s - loss: 0.4525 - accuracy: 0.8167\n",
      "Epoch 6: val_accuracy did not improve from 0.83125\n",
      "50/50 [==============================] - 66s 1s/step - loss: 0.4525 - accuracy: 0.8167 - val_loss: 0.4059 - val_accuracy: 0.8277\n",
      "Epoch 7/120\n",
      "50/50 [==============================] - ETA: 0s - loss: 0.4644 - accuracy: 0.8203\n",
      "Epoch 7: val_accuracy improved from 0.83125 to 0.86071, saving model to E:/School/UU/PATREC/checkpoints\\\n"
     ]
    },
    {
     "name": "stderr",
     "output_type": "stream",
     "text": [
      "WARNING:absl:Found untraced functions such as _jit_compiled_convolution_op, _jit_compiled_convolution_op, _jit_compiled_convolution_op, _jit_compiled_convolution_op, _jit_compiled_convolution_op while saving (showing 5 of 13). These functions will not be directly callable after loading.\n"
     ]
    },
    {
     "name": "stdout",
     "output_type": "stream",
     "text": [
      "INFO:tensorflow:Assets written to: E:/School/UU/PATREC/checkpoints\\assets\n"
     ]
    },
    {
     "name": "stderr",
     "output_type": "stream",
     "text": [
      "INFO:tensorflow:Assets written to: E:/School/UU/PATREC/checkpoints\\assets\n"
     ]
    },
    {
     "name": "stdout",
     "output_type": "stream",
     "text": [
      "50/50 [==============================] - 71s 1s/step - loss: 0.4644 - accuracy: 0.8203 - val_loss: 0.3843 - val_accuracy: 0.8607\n",
      "Epoch 8/120\n",
      "50/50 [==============================] - ETA: 0s - loss: 0.4256 - accuracy: 0.8253\n",
      "Epoch 8: val_accuracy did not improve from 0.86071\n",
      "50/50 [==============================] - 66s 1s/step - loss: 0.4256 - accuracy: 0.8253 - val_loss: 0.3991 - val_accuracy: 0.8554\n",
      "Epoch 9/120\n",
      "50/50 [==============================] - ETA: 0s - loss: 0.4038 - accuracy: 0.8343\n",
      "Epoch 9: val_accuracy improved from 0.86071 to 0.86429, saving model to E:/School/UU/PATREC/checkpoints\\\n"
     ]
    },
    {
     "name": "stderr",
     "output_type": "stream",
     "text": [
      "WARNING:absl:Found untraced functions such as _jit_compiled_convolution_op, _jit_compiled_convolution_op, _jit_compiled_convolution_op, _jit_compiled_convolution_op, _jit_compiled_convolution_op while saving (showing 5 of 13). These functions will not be directly callable after loading.\n"
     ]
    },
    {
     "name": "stdout",
     "output_type": "stream",
     "text": [
      "INFO:tensorflow:Assets written to: E:/School/UU/PATREC/checkpoints\\assets\n"
     ]
    },
    {
     "name": "stderr",
     "output_type": "stream",
     "text": [
      "INFO:tensorflow:Assets written to: E:/School/UU/PATREC/checkpoints\\assets\n"
     ]
    },
    {
     "name": "stdout",
     "output_type": "stream",
     "text": [
      "50/50 [==============================] - 71s 1s/step - loss: 0.4038 - accuracy: 0.8343 - val_loss: 0.3636 - val_accuracy: 0.8643\n",
      "Epoch 10/120\n",
      "50/50 [==============================] - ETA: 0s - loss: 0.4041 - accuracy: 0.8266\n",
      "Epoch 10: val_accuracy did not improve from 0.86429\n",
      "50/50 [==============================] - 66s 1s/step - loss: 0.4041 - accuracy: 0.8266 - val_loss: 0.4255 - val_accuracy: 0.8527\n",
      "Epoch 11/120\n",
      "50/50 [==============================] - ETA: 0s - loss: 0.3724 - accuracy: 0.8560\n",
      "Epoch 11: val_accuracy did not improve from 0.86429\n",
      "50/50 [==============================] - 66s 1s/step - loss: 0.3724 - accuracy: 0.8560 - val_loss: 0.4005 - val_accuracy: 0.8295\n",
      "Epoch 12/120\n",
      "50/50 [==============================] - ETA: 0s - loss: 0.3757 - accuracy: 0.8563\n",
      "Epoch 12: val_accuracy did not improve from 0.86429\n",
      "50/50 [==============================] - 66s 1s/step - loss: 0.3757 - accuracy: 0.8563 - val_loss: 0.3749 - val_accuracy: 0.8509\n",
      "Epoch 13/120\n",
      "50/50 [==============================] - ETA: 0s - loss: 0.3646 - accuracy: 0.8576\n",
      "Epoch 13: val_accuracy did not improve from 0.86429\n",
      "50/50 [==============================] - 66s 1s/step - loss: 0.3646 - accuracy: 0.8576 - val_loss: 0.3808 - val_accuracy: 0.8536\n",
      "Epoch 14/120\n",
      "50/50 [==============================] - ETA: 0s - loss: 0.3342 - accuracy: 0.8713\n",
      "Epoch 14: val_accuracy did not improve from 0.86429\n",
      "50/50 [==============================] - 67s 1s/step - loss: 0.3342 - accuracy: 0.8713 - val_loss: 0.4315 - val_accuracy: 0.8321\n",
      "Epoch 15/120\n",
      "50/50 [==============================] - ETA: 0s - loss: 0.3336 - accuracy: 0.8700\n",
      "Epoch 15: val_accuracy did not improve from 0.86429\n",
      "50/50 [==============================] - 66s 1s/step - loss: 0.3336 - accuracy: 0.8700 - val_loss: 0.4003 - val_accuracy: 0.8509\n",
      "Epoch 16/120\n",
      "50/50 [==============================] - ETA: 0s - loss: 0.2939 - accuracy: 0.8880\n",
      "Epoch 16: val_accuracy did not improve from 0.86429\n",
      "50/50 [==============================] - 66s 1s/step - loss: 0.2939 - accuracy: 0.8880 - val_loss: 0.3923 - val_accuracy: 0.8589\n"
     ]
    }
   ],
   "source": [
    "imagenet_free_model_history = fit_model(imagenet_free_model,store_model_loc,7)"
   ]
  },
  {
   "cell_type": "code",
   "execution_count": 15,
   "id": "25c9f41b",
   "metadata": {},
   "outputs": [
    {
     "name": "stdout",
     "output_type": "stream",
     "text": [
      "635/635 [==============================] - 6s 10ms/step\n"
     ]
    },
    {
     "data": {
      "image/png": "[encoded data removed]",
      "text/plain": [
       "<Figure size 640x480 with 2 Axes>"
      ]
     },
     "metadata": {},
     "output_type": "display_data"
    }
   ],
   "source": [
    "#Predict\n",
    "y_prediction_free_model = imagenet_free_model.predict(test_data) #for each observation the model returns the probability of belonging to each class\n",
    "arg_y_free_model = np.argmax(y_prediction_free_model, axis=1) #choose the class with most probability\n",
    "a = {0:'A',1:'B',2:'C',3:'D'}\n",
    "# print(list(test_df.label))\n",
    "# print([a[i] for i in arg_y_INF_model])\n",
    "result_free = confusion_matrix(list(test_df.label), [a[i] for i in arg_y_free_model], normalize='pred')\n",
    "cm_display_free = ConfusionMatrixDisplay(confusion_matrix = result_free, display_labels = ['A','B','C','D'])\n",
    "cm_display_free.plot()\n",
    "plt.show()"
   ]
  },
  {
   "cell_type": "code",
   "execution_count": 16,
   "id": "90b32919",
   "metadata": {},
   "outputs": [
    {
     "name": "stdout",
     "output_type": "stream",
     "text": [
      "Accuracy per class Model 1\n",
      "[0.91907514 0.84765625 0.87037037 0.63157895]\n",
      "Healthy      Bacterial     Covid     Viral\n"
     ]
    }
   ],
   "source": [
    "acc_perclass_free = result_free.diagonal()\n",
    "print(\"Accuracy per class Model 1\")\n",
    "print(acc_perclass_free)\n",
    "print(\"Healthy      Bacterial     Covid     Viral\")\n"
   ]
  },
  {
   "cell_type": "code",
   "execution_count": 17,
   "id": "19e28727",
   "metadata": {},
   "outputs": [
    {
     "name": "stdout",
     "output_type": "stream",
     "text": [
      "              precision    recall  f1-score   support\n",
      "\n",
      "           A       0.92      0.99      0.95       161\n",
      "           B       0.85      0.77      0.81       282\n",
      "           C       0.87      1.00      0.93        47\n",
      "           D       0.63      0.66      0.65       145\n",
      "\n",
      "    accuracy                           0.82       635\n",
      "   macro avg       0.82      0.85      0.83       635\n",
      "weighted avg       0.82      0.82      0.82       635\n",
      "\n"
     ]
    }
   ],
   "source": [
    "print(classification_report(test_df.label, [a[i] for i in arg_y_free_model]))"
   ]
  }
 ],
 "metadata": {
  "kernelspec": {
   "display_name": "Python 3 (ipykernel)",
   "language": "python",
   "name": "python3"
  },
  "language_info": {
   "codemirror_mode": {
    "name": "ipython",
    "version": 3
   },
   "file_extension": ".py",
   "mimetype": "text/x-python",
   "name": "python",
   "nbconvert_exporter": "python",
   "pygments_lexer": "ipython3",
   "version": "3.10.7"
  }
 },
 "nbformat": 4,
 "nbformat_minor": 5
}
